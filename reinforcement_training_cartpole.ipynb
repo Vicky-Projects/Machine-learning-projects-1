{
  "nbformat": 4,
  "nbformat_minor": 0,
  "metadata": {
    "colab": {
      "provenance": [],
      "authorship_tag": "ABX9TyMWBRC7VJ4HT5iAdJFgSHji",
      "include_colab_link": true
    },
    "kernelspec": {
      "name": "python3",
      "display_name": "Python 3"
    },
    "language_info": {
      "name": "python"
    }
  },
  "cells": [
    {
      "cell_type": "markdown",
      "metadata": {
        "id": "view-in-github",
        "colab_type": "text"
      },
      "source": [
        "<a href=\"https://colab.research.google.com/github/Vicky-Projects/Machine-learning-projects-1/blob/main/reinforcement_training_cartpole.ipynb\" target=\"_parent\"><img src=\"https://colab.research.google.com/assets/colab-badge.svg\" alt=\"Open In Colab\"/></a>"
      ]
    },
    {
      "cell_type": "markdown",
      "source": [
        "**Setup**"
      ],
      "metadata": {
        "id": "FjU2vypoL7k5"
      }
    },
    {
      "cell_type": "code",
      "execution_count": 1,
      "metadata": {
        "colab": {
          "base_uri": "https://localhost:8080/",
          "height": 1000
        },
        "id": "TJhu29HVK6Au",
        "outputId": "af51724c-561f-4ec2-b0e8-a141885f3bce"
      },
      "outputs": [
        {
          "output_type": "stream",
          "name": "stdout",
          "text": [
            "\r0% [Working]\r            \rHit:1 https://cloud.r-project.org/bin/linux/ubuntu focal-cran40/ InRelease\n",
            "\r0% [Waiting for headers] [Waiting for headers] [Waiting for headers] [Waiting f\r                                                                               \rHit:2 http://archive.ubuntu.com/ubuntu focal InRelease\n",
            "\r                                                                               \rHit:3 https://developer.download.nvidia.com/compute/cuda/repos/ubuntu2004/x86_64  InRelease\n",
            "\r                                                                               \r0% [Waiting for headers] [Waiting for headers] [Waiting for headers]\r                                                                    \rHit:4 http://archive.ubuntu.com/ubuntu focal-updates InRelease\n",
            "\r                                                                    \r0% [Waiting for headers] [Waiting for headers]\r                                              \rHit:5 http://ppa.launchpad.net/c2d4u.team/c2d4u4.0+/ubuntu focal InRelease\n",
            "Hit:6 http://security.ubuntu.com/ubuntu focal-security InRelease\n",
            "Hit:7 http://archive.ubuntu.com/ubuntu focal-backports InRelease\n",
            "Hit:8 http://ppa.launchpad.net/cran/libgit2/ubuntu focal InRelease\n",
            "Hit:9 http://ppa.launchpad.net/deadsnakes/ppa/ubuntu focal InRelease\n",
            "Hit:10 http://ppa.launchpad.net/graphics-drivers/ppa/ubuntu focal InRelease\n",
            "Hit:11 http://ppa.launchpad.net/ubuntugis/ppa/ubuntu focal InRelease\n",
            "Reading package lists... Done\n",
            "Reading package lists... Done\n",
            "Building dependency tree       \n",
            "Reading state information... Done\n",
            "freeglut3-dev is already the newest version (2.8.1-3).\n",
            "ffmpeg is already the newest version (7:4.2.7-0ubuntu0.1).\n",
            "xvfb is already the newest version (2:1.20.13-1ubuntu1~20.04.8).\n",
            "0 upgraded, 0 newly installed, 0 to remove and 15 not upgraded.\n",
            "Requirement already satisfied: numpy in /usr/local/lib/python3.10/dist-packages (1.25.1)\n",
            "Requirement already satisfied: imageio==2.4.1 in /usr/local/lib/python3.10/dist-packages (2.4.1)\n",
            "Requirement already satisfied: numpy in /usr/local/lib/python3.10/dist-packages (from imageio==2.4.1) (1.25.1)\n",
            "Requirement already satisfied: pillow in /usr/local/lib/python3.10/dist-packages (from imageio==2.4.1) (8.4.0)\n",
            "Requirement already satisfied: imageio in /usr/local/lib/python3.10/dist-packages (2.4.1)\n",
            "Collecting imageio\n",
            "  Downloading imageio-2.31.1-py3-none-any.whl (313 kB)\n",
            "\u001b[2K     \u001b[90m━━━━━━━━━━━━━━━━━━━━━━━━━━━━━━━━━━━━━━━\u001b[0m \u001b[32m313.2/313.2 kB\u001b[0m \u001b[31m6.4 MB/s\u001b[0m eta \u001b[36m0:00:00\u001b[0m\n",
            "\u001b[?25hRequirement already satisfied: numpy in /usr/local/lib/python3.10/dist-packages (from imageio) (1.25.1)\n",
            "Requirement already satisfied: pillow>=8.3.2 in /usr/local/lib/python3.10/dist-packages (from imageio) (8.4.0)\n",
            "Installing collected packages: imageio\n",
            "  Attempting uninstall: imageio\n",
            "    Found existing installation: imageio 2.4.1\n",
            "    Uninstalling imageio-2.4.1:\n",
            "      Successfully uninstalled imageio-2.4.1\n",
            "Successfully installed imageio-2.31.1\n",
            "Requirement already satisfied: pyvirtualdisplay in /usr/local/lib/python3.10/dist-packages (3.0)\n",
            "Requirement already satisfied: tf-agents[reverb] in /usr/local/lib/python3.10/dist-packages (0.17.0)\n",
            "Requirement already satisfied: absl-py>=0.6.1 in /usr/local/lib/python3.10/dist-packages (from tf-agents[reverb]) (1.4.0)\n",
            "Requirement already satisfied: cloudpickle>=1.3 in /usr/local/lib/python3.10/dist-packages (from tf-agents[reverb]) (2.2.1)\n",
            "Requirement already satisfied: gin-config>=0.4.0 in /usr/local/lib/python3.10/dist-packages (from tf-agents[reverb]) (0.5.0)\n",
            "Requirement already satisfied: gym<=0.23.0,>=0.17.0 in /usr/local/lib/python3.10/dist-packages (from tf-agents[reverb]) (0.23.0)\n",
            "Requirement already satisfied: numpy>=1.19.0 in /usr/local/lib/python3.10/dist-packages (from tf-agents[reverb]) (1.25.1)\n",
            "Requirement already satisfied: pillow in /usr/local/lib/python3.10/dist-packages (from tf-agents[reverb]) (8.4.0)\n",
            "Requirement already satisfied: six>=1.10.0 in /usr/local/lib/python3.10/dist-packages (from tf-agents[reverb]) (1.16.0)\n",
            "Requirement already satisfied: protobuf>=3.11.3 in /usr/local/lib/python3.10/dist-packages (from tf-agents[reverb]) (3.20.3)\n",
            "Requirement already satisfied: wrapt>=1.11.1 in /usr/local/lib/python3.10/dist-packages (from tf-agents[reverb]) (1.14.1)\n",
            "Requirement already satisfied: typing-extensions<4.6.0,>=3.7.4.3 in /usr/local/lib/python3.10/dist-packages (from tf-agents[reverb]) (4.5.0)\n",
            "Requirement already satisfied: pygame==2.1.3 in /usr/local/lib/python3.10/dist-packages (from tf-agents[reverb]) (2.1.3)\n",
            "Requirement already satisfied: tensorflow-probability~=0.20.1 in /usr/local/lib/python3.10/dist-packages (from tf-agents[reverb]) (0.20.1)\n",
            "Requirement already satisfied: rlds in /usr/local/lib/python3.10/dist-packages (from tf-agents[reverb]) (0.1.8)\n",
            "Requirement already satisfied: dm-reverb~=0.12.0 in /usr/local/lib/python3.10/dist-packages (from tf-agents[reverb]) (0.12.0)\n",
            "Requirement already satisfied: tensorflow~=2.13.0 in /usr/local/lib/python3.10/dist-packages (from tf-agents[reverb]) (2.13.0)\n",
            "Requirement already satisfied: dm-tree in /usr/local/lib/python3.10/dist-packages (from dm-reverb~=0.12.0->tf-agents[reverb]) (0.1.8)\n",
            "Requirement already satisfied: portpicker in /usr/local/lib/python3.10/dist-packages (from dm-reverb~=0.12.0->tf-agents[reverb]) (1.5.2)\n",
            "Requirement already satisfied: gym-notices>=0.0.4 in /usr/local/lib/python3.10/dist-packages (from gym<=0.23.0,>=0.17.0->tf-agents[reverb]) (0.0.8)\n",
            "Requirement already satisfied: astunparse>=1.6.0 in /usr/local/lib/python3.10/dist-packages (from tensorflow~=2.13.0->tf-agents[reverb]) (1.6.3)\n",
            "Requirement already satisfied: flatbuffers>=23.1.21 in /usr/local/lib/python3.10/dist-packages (from tensorflow~=2.13.0->tf-agents[reverb]) (23.5.26)\n",
            "Requirement already satisfied: gast<=0.4.0,>=0.2.1 in /usr/local/lib/python3.10/dist-packages (from tensorflow~=2.13.0->tf-agents[reverb]) (0.4.0)\n",
            "Requirement already satisfied: google-pasta>=0.1.1 in /usr/local/lib/python3.10/dist-packages (from tensorflow~=2.13.0->tf-agents[reverb]) (0.2.0)\n",
            "Requirement already satisfied: grpcio<2.0,>=1.24.3 in /usr/local/lib/python3.10/dist-packages (from tensorflow~=2.13.0->tf-agents[reverb]) (1.56.0)\n",
            "Requirement already satisfied: h5py>=2.9.0 in /usr/local/lib/python3.10/dist-packages (from tensorflow~=2.13.0->tf-agents[reverb]) (3.8.0)\n",
            "Requirement already satisfied: keras<2.14,>=2.13.1 in /usr/local/lib/python3.10/dist-packages (from tensorflow~=2.13.0->tf-agents[reverb]) (2.13.1)\n",
            "Requirement already satisfied: libclang>=13.0.0 in /usr/local/lib/python3.10/dist-packages (from tensorflow~=2.13.0->tf-agents[reverb]) (16.0.0)\n",
            "Collecting numpy>=1.19.0 (from tf-agents[reverb])\n",
            "  Using cached numpy-1.24.3-cp310-cp310-manylinux_2_17_x86_64.manylinux2014_x86_64.whl (17.3 MB)\n",
            "Requirement already satisfied: opt-einsum>=2.3.2 in /usr/local/lib/python3.10/dist-packages (from tensorflow~=2.13.0->tf-agents[reverb]) (3.3.0)\n",
            "Requirement already satisfied: packaging in /usr/local/lib/python3.10/dist-packages (from tensorflow~=2.13.0->tf-agents[reverb]) (23.1)\n",
            "Requirement already satisfied: setuptools in /usr/local/lib/python3.10/dist-packages (from tensorflow~=2.13.0->tf-agents[reverb]) (67.7.2)\n",
            "Requirement already satisfied: tensorboard<2.14,>=2.13 in /usr/local/lib/python3.10/dist-packages (from tensorflow~=2.13.0->tf-agents[reverb]) (2.13.0)\n",
            "Requirement already satisfied: tensorflow-estimator<2.14,>=2.13.0 in /usr/local/lib/python3.10/dist-packages (from tensorflow~=2.13.0->tf-agents[reverb]) (2.13.0)\n",
            "Requirement already satisfied: termcolor>=1.1.0 in /usr/local/lib/python3.10/dist-packages (from tensorflow~=2.13.0->tf-agents[reverb]) (2.3.0)\n",
            "Requirement already satisfied: tensorflow-io-gcs-filesystem>=0.23.1 in /usr/local/lib/python3.10/dist-packages (from tensorflow~=2.13.0->tf-agents[reverb]) (0.32.0)\n",
            "Requirement already satisfied: decorator in /usr/local/lib/python3.10/dist-packages (from tensorflow-probability~=0.20.1->tf-agents[reverb]) (4.4.2)\n",
            "Requirement already satisfied: wheel<1.0,>=0.23.0 in /usr/local/lib/python3.10/dist-packages (from astunparse>=1.6.0->tensorflow~=2.13.0->tf-agents[reverb]) (0.40.0)\n",
            "Requirement already satisfied: google-auth<3,>=1.6.3 in /usr/local/lib/python3.10/dist-packages (from tensorboard<2.14,>=2.13->tensorflow~=2.13.0->tf-agents[reverb]) (2.17.3)\n",
            "Requirement already satisfied: google-auth-oauthlib<1.1,>=0.5 in /usr/local/lib/python3.10/dist-packages (from tensorboard<2.14,>=2.13->tensorflow~=2.13.0->tf-agents[reverb]) (1.0.0)\n",
            "Requirement already satisfied: markdown>=2.6.8 in /usr/local/lib/python3.10/dist-packages (from tensorboard<2.14,>=2.13->tensorflow~=2.13.0->tf-agents[reverb]) (3.4.3)\n",
            "Requirement already satisfied: requests<3,>=2.21.0 in /usr/local/lib/python3.10/dist-packages (from tensorboard<2.14,>=2.13->tensorflow~=2.13.0->tf-agents[reverb]) (2.27.1)\n",
            "Requirement already satisfied: tensorboard-data-server<0.8.0,>=0.7.0 in /usr/local/lib/python3.10/dist-packages (from tensorboard<2.14,>=2.13->tensorflow~=2.13.0->tf-agents[reverb]) (0.7.1)\n",
            "Requirement already satisfied: werkzeug>=1.0.1 in /usr/local/lib/python3.10/dist-packages (from tensorboard<2.14,>=2.13->tensorflow~=2.13.0->tf-agents[reverb]) (2.3.6)\n",
            "Requirement already satisfied: psutil in /usr/local/lib/python3.10/dist-packages (from portpicker->dm-reverb~=0.12.0->tf-agents[reverb]) (5.9.5)\n",
            "Requirement already satisfied: cachetools<6.0,>=2.0.0 in /usr/local/lib/python3.10/dist-packages (from google-auth<3,>=1.6.3->tensorboard<2.14,>=2.13->tensorflow~=2.13.0->tf-agents[reverb]) (5.3.1)\n",
            "Requirement already satisfied: pyasn1-modules>=0.2.1 in /usr/local/lib/python3.10/dist-packages (from google-auth<3,>=1.6.3->tensorboard<2.14,>=2.13->tensorflow~=2.13.0->tf-agents[reverb]) (0.3.0)\n",
            "Requirement already satisfied: rsa<5,>=3.1.4 in /usr/local/lib/python3.10/dist-packages (from google-auth<3,>=1.6.3->tensorboard<2.14,>=2.13->tensorflow~=2.13.0->tf-agents[reverb]) (4.9)\n",
            "Requirement already satisfied: requests-oauthlib>=0.7.0 in /usr/local/lib/python3.10/dist-packages (from google-auth-oauthlib<1.1,>=0.5->tensorboard<2.14,>=2.13->tensorflow~=2.13.0->tf-agents[reverb]) (1.3.1)\n",
            "Requirement already satisfied: urllib3<1.27,>=1.21.1 in /usr/local/lib/python3.10/dist-packages (from requests<3,>=2.21.0->tensorboard<2.14,>=2.13->tensorflow~=2.13.0->tf-agents[reverb]) (1.26.16)\n",
            "Requirement already satisfied: certifi>=2017.4.17 in /usr/local/lib/python3.10/dist-packages (from requests<3,>=2.21.0->tensorboard<2.14,>=2.13->tensorflow~=2.13.0->tf-agents[reverb]) (2023.5.7)\n",
            "Requirement already satisfied: charset-normalizer~=2.0.0 in /usr/local/lib/python3.10/dist-packages (from requests<3,>=2.21.0->tensorboard<2.14,>=2.13->tensorflow~=2.13.0->tf-agents[reverb]) (2.0.12)\n",
            "Requirement already satisfied: idna<4,>=2.5 in /usr/local/lib/python3.10/dist-packages (from requests<3,>=2.21.0->tensorboard<2.14,>=2.13->tensorflow~=2.13.0->tf-agents[reverb]) (3.4)\n",
            "Requirement already satisfied: MarkupSafe>=2.1.1 in /usr/local/lib/python3.10/dist-packages (from werkzeug>=1.0.1->tensorboard<2.14,>=2.13->tensorflow~=2.13.0->tf-agents[reverb]) (2.1.3)\n",
            "Requirement already satisfied: pyasn1<0.6.0,>=0.4.6 in /usr/local/lib/python3.10/dist-packages (from pyasn1-modules>=0.2.1->google-auth<3,>=1.6.3->tensorboard<2.14,>=2.13->tensorflow~=2.13.0->tf-agents[reverb]) (0.5.0)\n",
            "Requirement already satisfied: oauthlib>=3.0.0 in /usr/local/lib/python3.10/dist-packages (from requests-oauthlib>=0.7.0->google-auth-oauthlib<1.1,>=0.5->tensorboard<2.14,>=2.13->tensorflow~=2.13.0->tf-agents[reverb]) (3.2.2)\n",
            "Installing collected packages: numpy\n",
            "  Attempting uninstall: numpy\n",
            "    Found existing installation: numpy 1.25.1\n",
            "    Uninstalling numpy-1.25.1:\n",
            "      Successfully uninstalled numpy-1.25.1\n",
            "\u001b[31mERROR: pip's dependency resolver does not currently take into account all the packages that are installed. This behaviour is the source of the following dependency conflicts.\n",
            "numba 0.56.4 requires numpy<1.24,>=1.18, but you have numpy 1.24.3 which is incompatible.\u001b[0m\u001b[31m\n",
            "\u001b[0mSuccessfully installed numpy-1.24.3\n"
          ]
        },
        {
          "output_type": "display_data",
          "data": {
            "application/vnd.colab-display-data+json": {
              "pip_warning": {
                "packages": [
                  "numpy"
                ]
              }
            }
          },
          "metadata": {}
        },
        {
          "output_type": "stream",
          "name": "stdout",
          "text": [
            "Requirement already satisfied: pyglet in /usr/local/lib/python3.10/dist-packages (2.0.8)\n"
          ]
        }
      ],
      "source": [
        "!sudo apt-get update\n",
        "!sudo apt-get install -y xvfb ffmpeg freeglut3-dev\n",
        "!pip install --upgrade numpy\n",
        "!pip install 'imageio==2.4.1'\n",
        "!pip install --upgrade imageio\n",
        "!pip install pyvirtualdisplay\n",
        "!pip install tf-agents[reverb]\n",
        "!pip install pyglet\n",
        "\n"
      ]
    },
    {
      "cell_type": "code",
      "source": [
        "from __future__ import absolute_import, division, print_function\n",
        "\n",
        "import base64\n",
        "import imageio\n",
        "import IPython\n",
        "import matplotlib\n",
        "import matplotlib.pyplot as plt\n",
        "import numpy as np\n",
        "import PIL.Image\n",
        "import pyvirtualdisplay\n",
        "import reverb\n",
        "\n",
        "import tensorflow as tf\n",
        "\n",
        "from tf_agents.agents.dqn import dqn_agent\n",
        "from tf_agents.drivers import py_driver\n",
        "from tf_agents.environments import suite_gym\n",
        "from tf_agents.environments import tf_py_environment\n",
        "from tf_agents.eval import metric_utils\n",
        "from tf_agents.metrics import tf_metrics\n",
        "from tf_agents.networks import sequential\n",
        "from tf_agents.policies import py_tf_eager_policy\n",
        "from tf_agents.policies import random_tf_policy\n",
        "from tf_agents.replay_buffers import reverb_replay_buffer\n",
        "from tf_agents.replay_buffers import reverb_utils\n",
        "from tf_agents.trajectories import trajectory\n",
        "from tf_agents.specs import tensor_spec\n",
        "from tf_agents.utils import common"
      ],
      "metadata": {
        "id": "zo8HLyYILNIP"
      },
      "execution_count": 2,
      "outputs": []
    },
    {
      "cell_type": "code",
      "source": [
        "# Set up a virtual display for rendering OpenAI gym environments.\n",
        "display = pyvirtualdisplay.Display(visible=0, size=(1400, 900)).start()"
      ],
      "metadata": {
        "id": "jvS_23iNLQkb"
      },
      "execution_count": 3,
      "outputs": []
    },
    {
      "cell_type": "code",
      "source": [
        "tf.version.VERSION"
      ],
      "metadata": {
        "colab": {
          "base_uri": "https://localhost:8080/",
          "height": 35
        },
        "id": "unpaVo2yL3SW",
        "outputId": "3759e927-4e79-490e-84da-d05c7b11f488"
      },
      "execution_count": 4,
      "outputs": [
        {
          "output_type": "execute_result",
          "data": {
            "text/plain": [
              "'2.13.0'"
            ],
            "application/vnd.google.colaboratory.intrinsic+json": {
              "type": "string"
            }
          },
          "metadata": {},
          "execution_count": 4
        }
      ]
    },
    {
      "cell_type": "markdown",
      "source": [
        "**Parameters**"
      ],
      "metadata": {
        "id": "0kNk-UCCMnNZ"
      }
    },
    {
      "cell_type": "code",
      "source": [
        "num_iterations = 2000 # @param {type:\"integer\"}\n",
        "\n",
        "initial_collect_steps = 100  # @param {type:\"integer\"}\n",
        "collect_steps_per_iteration =   1# @param {type:\"integer\"}\n",
        "replay_buffer_max_length = 10000  # @param {type:\"integer\"}\n",
        "\n",
        "batch_size = 64  # @param {type:\"integer\"}\n",
        "learning_rate = 1e-3  # @param {type:\"number\"}\n",
        "log_interval = 200  # @param {type:\"integer\"}\n",
        "\n",
        "num_eval_episodes = 10  # @param {type:\"integer\"}\n",
        "eval_interval = 1000  # @param {type:\"integer\"}"
      ],
      "metadata": {
        "id": "7Bw16SQlMiT_"
      },
      "execution_count": 5,
      "outputs": []
    },
    {
      "cell_type": "markdown",
      "source": [
        "Environment"
      ],
      "metadata": {
        "id": "BDPCu0ZYM8PK"
      }
    },
    {
      "cell_type": "code",
      "source": [
        "env_name = 'CartPole-v1'\n",
        "env = suite_gym.load(env_name)"
      ],
      "metadata": {
        "id": "UmWvCUCIMjjI"
      },
      "execution_count": 6,
      "outputs": []
    },
    {
      "cell_type": "code",
      "source": [
        "env.reset()\n",
        "PIL.Image.fromarray(env.render())"
      ],
      "metadata": {
        "colab": {
          "base_uri": "https://localhost:8080/",
          "height": 417
        },
        "id": "vTEDBRmnNAaj",
        "outputId": "f8945f01-7178-4130-9c32-cf29b283ccab"
      },
      "execution_count": 7,
      "outputs": [
        {
          "output_type": "execute_result",
          "data": {
            "text/plain": [
              "<PIL.Image.Image image mode=RGB size=600x400 at 0x7D8FED2BA890>"
            ],
            "image/png": "[encoded data removed]"
          },
          "metadata": {},
          "execution_count": 7
        }
      ]
    },
    {
      "cell_type": "code",
      "source": [
        "print('Observation Spec:')\n",
        "print(env.time_step_spec().observation)"
      ],
      "metadata": {
        "colab": {
          "base_uri": "https://localhost:8080/"
        },
        "id": "3OXYupwoND2r",
        "outputId": "ec1f9f2f-92da-4761-b41c-f780abc16030"
      },
      "execution_count": 8,
      "outputs": [
        {
          "output_type": "stream",
          "name": "stdout",
          "text": [
            "Observation Spec:\n",
            "BoundedArraySpec(shape=(4,), dtype=dtype('float32'), name='observation', minimum=[-4.8000002e+00 -3.4028235e+38 -4.1887903e-01 -3.4028235e+38], maximum=[4.8000002e+00 3.4028235e+38 4.1887903e-01 3.4028235e+38])\n"
          ]
        }
      ]
    },
    {
      "cell_type": "code",
      "source": [
        "print('Reward Spec:')\n",
        "print(env.time_step_spec().reward)"
      ],
      "metadata": {
        "colab": {
          "base_uri": "https://localhost:8080/"
        },
        "id": "0bTwaErlNHx9",
        "outputId": "d18788f9-901d-4828-ffb0-f0b850d6efb4"
      },
      "execution_count": 9,
      "outputs": [
        {
          "output_type": "stream",
          "name": "stdout",
          "text": [
            "Reward Spec:\n",
            "ArraySpec(shape=(), dtype=dtype('float32'), name='reward')\n"
          ]
        }
      ]
    },
    {
      "cell_type": "code",
      "source": [
        "print('Action Spec:')\n",
        "print(env.action_spec())"
      ],
      "metadata": {
        "colab": {
          "base_uri": "https://localhost:8080/"
        },
        "id": "_h4c_DX0NK5h",
        "outputId": "c13a83be-320f-4ba9-9b7b-bbfc451e98a0"
      },
      "execution_count": 10,
      "outputs": [
        {
          "output_type": "stream",
          "name": "stdout",
          "text": [
            "Action Spec:\n",
            "BoundedArraySpec(shape=(), dtype=dtype('int64'), name='action', minimum=0, maximum=1)\n"
          ]
        }
      ]
    },
    {
      "cell_type": "code",
      "source": [
        "time_step = env.reset()\n",
        "print('Time step:')\n",
        "print(time_step)\n",
        "\n",
        "action = np.array(1, dtype=np.int32)\n",
        "\n",
        "next_time_step = env.step(action)\n",
        "print('Next time step:')\n",
        "print(next_time_step)"
      ],
      "metadata": {
        "colab": {
          "base_uri": "https://localhost:8080/"
        },
        "id": "bFeX6sLMNMhS",
        "outputId": "ea46f9df-64db-4112-d231-168d9ecafc81"
      },
      "execution_count": 11,
      "outputs": [
        {
          "output_type": "stream",
          "name": "stdout",
          "text": [
            "Time step:\n",
            "TimeStep(\n",
            "{'discount': array(1., dtype=float32),\n",
            " 'observation': array([ 0.03984538, -0.03791911,  0.03222594,  0.04724396], dtype=float32),\n",
            " 'reward': array(0., dtype=float32),\n",
            " 'step_type': array(0, dtype=int32)})\n",
            "Next time step:\n",
            "TimeStep(\n",
            "{'discount': array(1., dtype=float32),\n",
            " 'observation': array([ 0.039087  ,  0.15672629,  0.03317082, -0.23509975], dtype=float32),\n",
            " 'reward': array(1., dtype=float32),\n",
            " 'step_type': array(1, dtype=int32)})\n"
          ]
        }
      ]
    },
    {
      "cell_type": "code",
      "source": [
        "train_py_env = suite_gym.load(env_name)\n",
        "eval_py_env = suite_gym.load(env_name)"
      ],
      "metadata": {
        "id": "TdAAmTXKNPRS"
      },
      "execution_count": 12,
      "outputs": []
    },
    {
      "cell_type": "code",
      "source": [
        "train_env = tf_py_environment.TFPyEnvironment(train_py_env)\n",
        "eval_env = tf_py_environment.TFPyEnvironment(eval_py_env)"
      ],
      "metadata": {
        "id": "QCF0Y_mcNSGp"
      },
      "execution_count": 13,
      "outputs": []
    },
    {
      "cell_type": "code",
      "source": [
        "fc_layer_params = (100, 50)\n",
        "action_tensor_spec = tensor_spec.from_spec(env.action_spec())\n",
        "num_actions = action_tensor_spec.maximum - action_tensor_spec.minimum + 1\n",
        "\n",
        "# Define a helper function to create Dense layers configured with the right\n",
        "# activation and kernel initializer.\n",
        "def dense_layer(num_units):\n",
        "  return tf.keras.layers.Dense(\n",
        "      num_units,\n",
        "      activation=tf.keras.activations.relu,\n",
        "      kernel_initializer=tf.keras.initializers.VarianceScaling(\n",
        "          scale=2.0, mode='fan_in', distribution='truncated_normal'))\n",
        "\n",
        "# QNetwork consists of a sequence of Dense layers followed by a dense layer\n",
        "# with `num_actions` units to generate one q_value per available action as\n",
        "# its output.\n",
        "dense_layers = [dense_layer(num_units) for num_units in fc_layer_params]\n",
        "q_values_layer = tf.keras.layers.Dense(\n",
        "    num_actions,\n",
        "    activation=None,\n",
        "    kernel_initializer=tf.keras.initializers.RandomUniform(\n",
        "        minval=-0.03, maxval=0.03),\n",
        "    bias_initializer=tf.keras.initializers.Constant(-0.2))\n",
        "q_net = sequential.Sequential(dense_layers + [q_values_layer])"
      ],
      "metadata": {
        "id": "Gr_E6mPwNYi2"
      },
      "execution_count": 14,
      "outputs": []
    },
    {
      "cell_type": "code",
      "source": [
        "optimizer = tf.keras.optimizers.Adam(learning_rate=learning_rate)\n",
        "\n",
        "train_step_counter = tf.Variable(0)\n",
        "\n",
        "agent = dqn_agent.DqnAgent(\n",
        "    train_env.time_step_spec(),\n",
        "    train_env.action_spec(),\n",
        "    q_network=q_net,\n",
        "    optimizer=optimizer,\n",
        "    td_errors_loss_fn=common.element_wise_squared_loss,\n",
        "    train_step_counter=train_step_counter)\n",
        "\n",
        "agent.initialize()"
      ],
      "metadata": {
        "id": "4S9PkC-rNcF7"
      },
      "execution_count": 15,
      "outputs": []
    },
    {
      "cell_type": "markdown",
      "source": [
        "Polices"
      ],
      "metadata": {
        "id": "EjnTg7C5NtDX"
      }
    },
    {
      "cell_type": "code",
      "source": [
        "eval_policy = agent.policy\n",
        "collect_policy = agent.collect_policy"
      ],
      "metadata": {
        "id": "oQZ-YQB8Nd6m"
      },
      "execution_count": 16,
      "outputs": []
    },
    {
      "cell_type": "code",
      "source": [
        "random_policy = random_tf_policy.RandomTFPolicy(train_env.time_step_spec(),\n",
        "                                                train_env.action_spec())"
      ],
      "metadata": {
        "id": "oGKvAIJaNyb0"
      },
      "execution_count": 17,
      "outputs": []
    },
    {
      "cell_type": "code",
      "source": [
        "example_environment = tf_py_environment.TFPyEnvironment(\n",
        "    suite_gym.load('CartPole-v1'))"
      ],
      "metadata": {
        "id": "Ks7Ivj-oNz7h"
      },
      "execution_count": 18,
      "outputs": []
    },
    {
      "cell_type": "code",
      "source": [
        "time_step = example_environment.reset()"
      ],
      "metadata": {
        "id": "nz_mJjWAN2I3"
      },
      "execution_count": 19,
      "outputs": []
    },
    {
      "cell_type": "code",
      "source": [
        "random_policy.action(time_step)"
      ],
      "metadata": {
        "colab": {
          "base_uri": "https://localhost:8080/"
        },
        "id": "8PWWt2WxN5k-",
        "outputId": "e844e79e-a90b-4e8e-a113-4980e9414e6a"
      },
      "execution_count": 20,
      "outputs": [
        {
          "output_type": "execute_result",
          "data": {
            "text/plain": [
              "PolicyStep(action=<tf.Tensor: shape=(1,), dtype=int64, numpy=array([0])>, state=(), info=())"
            ]
          },
          "metadata": {},
          "execution_count": 20
        }
      ]
    },
    {
      "cell_type": "markdown",
      "source": [
        "Metrics and Evaluation"
      ],
      "metadata": {
        "id": "kmS1ZCcIN8qS"
      }
    },
    {
      "cell_type": "code",
      "source": [
        "def compute_avg_return(environment, policy, num_episodes=10):\n",
        "\n",
        "  total_return = 0.0\n",
        "  for _ in range(num_episodes):\n",
        "\n",
        "    time_step = environment.reset()\n",
        "    episode_return = 0.0\n",
        "\n",
        "    while not time_step.is_last():\n",
        "      action_step = policy.action(time_step)\n",
        "      time_step = environment.step(action_step.action)\n",
        "      episode_return += time_step.reward\n",
        "    total_return += episode_return\n",
        "\n",
        "  avg_return = total_return / num_episodes\n",
        "  return avg_return.numpy()[0]\n"
      ],
      "metadata": {
        "id": "r_4buYtqN6mD"
      },
      "execution_count": 21,
      "outputs": []
    },
    {
      "cell_type": "code",
      "source": [
        "compute_avg_return(eval_env, random_policy, num_eval_episodes)"
      ],
      "metadata": {
        "colab": {
          "base_uri": "https://localhost:8080/"
        },
        "id": "bR0qVBl7OCjm",
        "outputId": "f4e86478-f7ce-46ea-d50f-63a9372a69f7"
      },
      "execution_count": 22,
      "outputs": [
        {
          "output_type": "execute_result",
          "data": {
            "text/plain": [
              "22.0"
            ]
          },
          "metadata": {},
          "execution_count": 22
        }
      ]
    },
    {
      "cell_type": "markdown",
      "source": [
        "Replay Buffer"
      ],
      "metadata": {
        "id": "-Ain7s5NOI7o"
      }
    },
    {
      "cell_type": "code",
      "source": [
        "table_name = 'uniform_table'\n",
        "replay_buffer_signature = tensor_spec.from_spec(\n",
        "      agent.collect_data_spec)\n",
        "replay_buffer_signature = tensor_spec.add_outer_dim(\n",
        "    replay_buffer_signature)\n",
        "\n",
        "table = reverb.Table(\n",
        "    table_name,\n",
        "    max_size=replay_buffer_max_length,\n",
        "    sampler=reverb.selectors.Uniform(),\n",
        "    remover=reverb.selectors.Fifo(),\n",
        "    rate_limiter=reverb.rate_limiters.MinSize(1),\n",
        "    signature=replay_buffer_signature)\n",
        "\n",
        "reverb_server = reverb.Server([table])\n",
        "\n",
        "replay_buffer = reverb_replay_buffer.ReverbReplayBuffer(\n",
        "    agent.collect_data_spec,\n",
        "    table_name=table_name,\n",
        "    sequence_length=2,\n",
        "    local_server=reverb_server)\n",
        "\n",
        "rb_observer = reverb_utils.ReverbAddTrajectoryObserver(\n",
        "  replay_buffer.py_client,\n",
        "  table_name,\n",
        "  sequence_length=2)"
      ],
      "metadata": {
        "id": "S1KYw9BXOEBt"
      },
      "execution_count": 23,
      "outputs": []
    },
    {
      "cell_type": "code",
      "source": [
        "agent.collect_data_spec"
      ],
      "metadata": {
        "colab": {
          "base_uri": "https://localhost:8080/"
        },
        "id": "Bi2ZCKeEOHJu",
        "outputId": "56f70d73-65ae-4c8e-b339-237662e8a848"
      },
      "execution_count": 24,
      "outputs": [
        {
          "output_type": "execute_result",
          "data": {
            "text/plain": [
              "Trajectory(\n",
              "{'action': BoundedTensorSpec(shape=(), dtype=tf.int64, name='action', minimum=array(0), maximum=array(1)),\n",
              " 'discount': BoundedTensorSpec(shape=(), dtype=tf.float32, name='discount', minimum=array(0., dtype=float32), maximum=array(1., dtype=float32)),\n",
              " 'next_step_type': TensorSpec(shape=(), dtype=tf.int32, name='step_type'),\n",
              " 'observation': BoundedTensorSpec(shape=(4,), dtype=tf.float32, name='observation', minimum=array([-4.8000002e+00, -3.4028235e+38, -4.1887903e-01, -3.4028235e+38],\n",
              "      dtype=float32), maximum=array([4.8000002e+00, 3.4028235e+38, 4.1887903e-01, 3.4028235e+38],\n",
              "      dtype=float32)),\n",
              " 'policy_info': (),\n",
              " 'reward': TensorSpec(shape=(), dtype=tf.float32, name='reward'),\n",
              " 'step_type': TensorSpec(shape=(), dtype=tf.int32, name='step_type')})"
            ]
          },
          "metadata": {},
          "execution_count": 24
        }
      ]
    },
    {
      "cell_type": "code",
      "source": [
        "agent.collect_data_spec._fields"
      ],
      "metadata": {
        "colab": {
          "base_uri": "https://localhost:8080/"
        },
        "id": "0LrA8yy0OMck",
        "outputId": "1995db88-e28d-4625-eab2-5df5ed1c50c1"
      },
      "execution_count": 25,
      "outputs": [
        {
          "output_type": "execute_result",
          "data": {
            "text/plain": [
              "('step_type',\n",
              " 'observation',\n",
              " 'action',\n",
              " 'policy_info',\n",
              " 'next_step_type',\n",
              " 'reward',\n",
              " 'discount')"
            ]
          },
          "metadata": {},
          "execution_count": 25
        }
      ]
    },
    {
      "cell_type": "markdown",
      "source": [
        "Data Collection"
      ],
      "metadata": {
        "id": "njop0vReOR_4"
      }
    },
    {
      "cell_type": "code",
      "source": [
        "py_driver.PyDriver(\n",
        "    env,\n",
        "    py_tf_eager_policy.PyTFEagerPolicy(\n",
        "      random_policy, use_tf_function=True),\n",
        "    [rb_observer],\n",
        "    max_steps=initial_collect_steps).run(train_py_env.reset())"
      ],
      "metadata": {
        "colab": {
          "base_uri": "https://localhost:8080/"
        },
        "id": "idmFql57OPN7",
        "outputId": "0694da21-5654-4159-ebb4-d7f8cfae5183"
      },
      "execution_count": 26,
      "outputs": [
        {
          "output_type": "execute_result",
          "data": {
            "text/plain": [
              "(TimeStep(\n",
              " {'discount': array(1., dtype=float32),\n",
              "  'observation': array([0.32338634, 0.4949962 , 0.00580653, 0.42386442], dtype=float32),\n",
              "  'reward': array(1., dtype=float32),\n",
              "  'step_type': array(1, dtype=int32)}),\n",
              " ())"
            ]
          },
          "metadata": {},
          "execution_count": 26
        }
      ]
    },
    {
      "cell_type": "code",
      "source": [
        "iter(replay_buffer.as_dataset()).next()"
      ],
      "metadata": {
        "colab": {
          "base_uri": "https://localhost:8080/"
        },
        "id": "hCAOv4yMOVBg",
        "outputId": "51584d37-9e35-4724-9581-3701de6fbef1"
      },
      "execution_count": 27,
      "outputs": [
        {
          "output_type": "execute_result",
          "data": {
            "text/plain": [
              "(Trajectory(\n",
              " {'action': <tf.Tensor: shape=(2,), dtype=int64, numpy=array([0, 1])>,\n",
              "  'discount': <tf.Tensor: shape=(2,), dtype=float32, numpy=array([1., 1.], dtype=float32)>,\n",
              "  'next_step_type': <tf.Tensor: shape=(2,), dtype=int32, numpy=array([1, 1], dtype=int32)>,\n",
              "  'observation': <tf.Tensor: shape=(2, 4), dtype=float32, numpy=\n",
              " array([[-2.1714283e-02,  1.0930212e+00,  1.5220819e-01, -7.4287808e-01],\n",
              "        [ 1.4614101e-04,  8.9616269e-01,  1.3735063e-01, -4.0642762e-01]],\n",
              "       dtype=float32)>,\n",
              "  'policy_info': (),\n",
              "  'reward': <tf.Tensor: shape=(2,), dtype=float32, numpy=array([1., 1.], dtype=float32)>,\n",
              "  'step_type': <tf.Tensor: shape=(2,), dtype=int32, numpy=array([1, 1], dtype=int32)>}),\n",
              " SampleInfo(key=<tf.Tensor: shape=(2,), dtype=uint64, numpy=array([5535400987449826963, 5535400987449826963], dtype=uint64)>, probability=<tf.Tensor: shape=(2,), dtype=float64, numpy=array([0.01010101, 0.01010101])>, table_size=<tf.Tensor: shape=(2,), dtype=int64, numpy=array([99, 99])>, priority=<tf.Tensor: shape=(2,), dtype=float64, numpy=array([1., 1.])>, times_sampled=<tf.Tensor: shape=(2,), dtype=int32, numpy=array([1, 1], dtype=int32)>))"
            ]
          },
          "metadata": {},
          "execution_count": 27
        }
      ]
    },
    {
      "cell_type": "code",
      "source": [
        "# Dataset generates trajectories with shape [Bx2x...]\n",
        "dataset = replay_buffer.as_dataset(\n",
        "    num_parallel_calls=3,\n",
        "    sample_batch_size=batch_size,\n",
        "    num_steps=2).prefetch(3)\n",
        "\n",
        "dataset"
      ],
      "metadata": {
        "colab": {
          "base_uri": "https://localhost:8080/"
        },
        "id": "DgQJLRtLOcO1",
        "outputId": "fd0b9d51-b1ca-41a3-a84d-07793188e38c"
      },
      "execution_count": 28,
      "outputs": [
        {
          "output_type": "execute_result",
          "data": {
            "text/plain": [
              "<_PrefetchDataset element_spec=(Trajectory(\n",
              "{'action': TensorSpec(shape=(64, 2), dtype=tf.int64, name=None),\n",
              " 'discount': TensorSpec(shape=(64, 2), dtype=tf.float32, name=None),\n",
              " 'next_step_type': TensorSpec(shape=(64, 2), dtype=tf.int32, name=None),\n",
              " 'observation': TensorSpec(shape=(64, 2, 4), dtype=tf.float32, name=None),\n",
              " 'policy_info': (),\n",
              " 'reward': TensorSpec(shape=(64, 2), dtype=tf.float32, name=None),\n",
              " 'step_type': TensorSpec(shape=(64, 2), dtype=tf.int32, name=None)}), SampleInfo(key=TensorSpec(shape=(64, 2), dtype=tf.uint64, name=None), probability=TensorSpec(shape=(64, 2), dtype=tf.float64, name=None), table_size=TensorSpec(shape=(64, 2), dtype=tf.int64, name=None), priority=TensorSpec(shape=(64, 2), dtype=tf.float64, name=None), times_sampled=TensorSpec(shape=(64, 2), dtype=tf.int32, name=None)))>"
            ]
          },
          "metadata": {},
          "execution_count": 28
        }
      ]
    },
    {
      "cell_type": "code",
      "source": [
        "iterator = iter(dataset)\n",
        "print(iterator)"
      ],
      "metadata": {
        "colab": {
          "base_uri": "https://localhost:8080/"
        },
        "id": "jrYOj-VnOh39",
        "outputId": "ecfa484d-0467-4676-ad9e-ff155d514472"
      },
      "execution_count": 29,
      "outputs": [
        {
          "output_type": "stream",
          "name": "stdout",
          "text": [
            "<tensorflow.python.data.ops.iterator_ops.OwnedIterator object at 0x7d8f3c773df0>\n"
          ]
        }
      ]
    },
    {
      "cell_type": "code",
      "source": [
        "iterator.next()"
      ],
      "metadata": {
        "colab": {
          "base_uri": "https://localhost:8080/"
        },
        "id": "da5QEd_2OkC-",
        "outputId": "a4c76120-9492-44e7-8d5f-3aa599cbc344"
      },
      "execution_count": 30,
      "outputs": [
        {
          "output_type": "execute_result",
          "data": {
            "text/plain": [
              "(Trajectory(\n",
              " {'action': <tf.Tensor: shape=(64, 2), dtype=int64, numpy=\n",
              " array([[1, 1],\n",
              "        [0, 0],\n",
              "        [0, 0],\n",
              "        [0, 1],\n",
              "        [0, 0],\n",
              "        [1, 0],\n",
              "        [0, 0],\n",
              "        [0, 0],\n",
              "        [1, 0],\n",
              "        [0, 1],\n",
              "        [1, 1],\n",
              "        [0, 1],\n",
              "        [1, 0],\n",
              "        [0, 0],\n",
              "        [1, 0],\n",
              "        [0, 0],\n",
              "        [1, 1],\n",
              "        [1, 1],\n",
              "        [1, 0],\n",
              "        [0, 1],\n",
              "        [1, 0],\n",
              "        [0, 0],\n",
              "        [1, 1],\n",
              "        [0, 0],\n",
              "        [1, 0],\n",
              "        [0, 1],\n",
              "        [0, 1],\n",
              "        [0, 0],\n",
              "        [0, 0],\n",
              "        [1, 0],\n",
              "        [1, 1],\n",
              "        [1, 0],\n",
              "        [1, 0],\n",
              "        [1, 1],\n",
              "        [1, 1],\n",
              "        [1, 1],\n",
              "        [0, 0],\n",
              "        [0, 0],\n",
              "        [0, 1],\n",
              "        [0, 0],\n",
              "        [1, 1],\n",
              "        [0, 0],\n",
              "        [1, 1],\n",
              "        [0, 0],\n",
              "        [1, 0],\n",
              "        [1, 0],\n",
              "        [1, 0],\n",
              "        [0, 0],\n",
              "        [1, 1],\n",
              "        [1, 1],\n",
              "        [1, 1],\n",
              "        [1, 1],\n",
              "        [0, 0],\n",
              "        [0, 0],\n",
              "        [0, 1],\n",
              "        [1, 0],\n",
              "        [0, 0],\n",
              "        [1, 0],\n",
              "        [0, 0],\n",
              "        [1, 0],\n",
              "        [0, 0],\n",
              "        [0, 1],\n",
              "        [1, 1],\n",
              "        [1, 1]])>,\n",
              "  'discount': <tf.Tensor: shape=(64, 2), dtype=float32, numpy=\n",
              " array([[1., 1.],\n",
              "        [1., 0.],\n",
              "        [1., 1.],\n",
              "        [1., 1.],\n",
              "        [1., 1.],\n",
              "        [1., 1.],\n",
              "        [1., 1.],\n",
              "        [0., 1.],\n",
              "        [1., 1.],\n",
              "        [1., 1.],\n",
              "        [1., 1.],\n",
              "        [1., 1.],\n",
              "        [1., 1.],\n",
              "        [0., 1.],\n",
              "        [1., 1.],\n",
              "        [0., 1.],\n",
              "        [1., 1.],\n",
              "        [1., 1.],\n",
              "        [1., 1.],\n",
              "        [1., 1.],\n",
              "        [1., 1.],\n",
              "        [1., 1.],\n",
              "        [1., 1.],\n",
              "        [1., 1.],\n",
              "        [1., 1.],\n",
              "        [1., 1.],\n",
              "        [1., 1.],\n",
              "        [1., 1.],\n",
              "        [1., 1.],\n",
              "        [1., 1.],\n",
              "        [1., 1.],\n",
              "        [1., 1.],\n",
              "        [1., 1.],\n",
              "        [1., 1.],\n",
              "        [1., 1.],\n",
              "        [1., 1.],\n",
              "        [1., 1.],\n",
              "        [1., 1.],\n",
              "        [1., 1.],\n",
              "        [1., 1.],\n",
              "        [1., 1.],\n",
              "        [1., 1.],\n",
              "        [1., 1.],\n",
              "        [0., 1.],\n",
              "        [1., 1.],\n",
              "        [1., 1.],\n",
              "        [1., 1.],\n",
              "        [0., 1.],\n",
              "        [1., 1.],\n",
              "        [1., 1.],\n",
              "        [1., 1.],\n",
              "        [0., 1.],\n",
              "        [1., 1.],\n",
              "        [1., 1.],\n",
              "        [1., 1.],\n",
              "        [1., 1.],\n",
              "        [1., 0.],\n",
              "        [1., 1.],\n",
              "        [0., 1.],\n",
              "        [1., 1.],\n",
              "        [1., 1.],\n",
              "        [1., 1.],\n",
              "        [1., 1.],\n",
              "        [1., 1.]], dtype=float32)>,\n",
              "  'next_step_type': <tf.Tensor: shape=(64, 2), dtype=int32, numpy=\n",
              " array([[1, 1],\n",
              "        [1, 2],\n",
              "        [1, 1],\n",
              "        [1, 1],\n",
              "        [1, 1],\n",
              "        [1, 1],\n",
              "        [1, 1],\n",
              "        [2, 0],\n",
              "        [1, 1],\n",
              "        [1, 1],\n",
              "        [1, 1],\n",
              "        [1, 1],\n",
              "        [1, 1],\n",
              "        [2, 0],\n",
              "        [1, 1],\n",
              "        [2, 0],\n",
              "        [1, 1],\n",
              "        [1, 1],\n",
              "        [1, 1],\n",
              "        [1, 1],\n",
              "        [1, 1],\n",
              "        [1, 1],\n",
              "        [1, 1],\n",
              "        [1, 1],\n",
              "        [1, 1],\n",
              "        [1, 1],\n",
              "        [1, 1],\n",
              "        [1, 1],\n",
              "        [1, 1],\n",
              "        [1, 1],\n",
              "        [1, 1],\n",
              "        [1, 1],\n",
              "        [1, 1],\n",
              "        [1, 1],\n",
              "        [1, 1],\n",
              "        [1, 1],\n",
              "        [1, 1],\n",
              "        [1, 1],\n",
              "        [1, 1],\n",
              "        [1, 1],\n",
              "        [1, 1],\n",
              "        [1, 1],\n",
              "        [1, 1],\n",
              "        [2, 0],\n",
              "        [1, 1],\n",
              "        [1, 1],\n",
              "        [1, 1],\n",
              "        [2, 0],\n",
              "        [1, 1],\n",
              "        [1, 1],\n",
              "        [1, 1],\n",
              "        [2, 0],\n",
              "        [1, 1],\n",
              "        [1, 1],\n",
              "        [1, 1],\n",
              "        [1, 1],\n",
              "        [1, 2],\n",
              "        [1, 1],\n",
              "        [2, 0],\n",
              "        [1, 1],\n",
              "        [1, 1],\n",
              "        [1, 1],\n",
              "        [1, 1],\n",
              "        [1, 1]], dtype=int32)>,\n",
              "  'observation': <tf.Tensor: shape=(64, 2, 4), dtype=float32, numpy=\n",
              " array([[[ 1.80693958e-02,  1.08909690e+00,  1.29222080e-01,\n",
              "          -6.52849197e-01],\n",
              "         [ 3.98513339e-02,  1.28220510e+00,  1.16165087e-01,\n",
              "          -9.02210832e-01]],\n",
              " \n",
              "        [[ 1.75776556e-01,  9.41445589e-01, -1.71887130e-01,\n",
              "          -1.51773489e+00],\n",
              "         [ 1.94605455e-01,  7.48768568e-01, -2.02241838e-01,\n",
              "          -1.28326476e+00]],\n",
              " \n",
              "        [[ 1.53080866e-01,  1.13478458e+00, -1.36586919e-01,\n",
              "          -1.76501048e+00],\n",
              "         [ 1.75776556e-01,  9.41445589e-01, -1.71887130e-01,\n",
              "          -1.51773489e+00]],\n",
              " \n",
              "        [[ 1.69160739e-02,  2.15648323e-01,  2.64324881e-02,\n",
              "          -2.78670013e-01],\n",
              "         [ 2.12290399e-02,  2.01594606e-02,  2.08590887e-02,\n",
              "           2.22311057e-02]],\n",
              " \n",
              "        [[ 9.96482968e-02,  9.96464372e-01, -8.19374248e-02,\n",
              "          -1.45989931e+00],\n",
              "         [ 1.19577579e-01,  8.02437186e-01, -1.11135408e-01,\n",
              "          -1.19389760e+00]],\n",
              " \n",
              "        [[ 4.92487028e-02,  5.46068728e-01,  1.81260630e-02,\n",
              "          -8.00715387e-01],\n",
              "         [ 6.01700768e-02,  7.40937471e-01,  2.11175624e-03,\n",
              "          -1.08764160e+00]],\n",
              " \n",
              "        [[-3.71705852e-02, -4.29466188e-01,  1.11598372e-01,\n",
              "           6.95818782e-01],\n",
              "         [-4.57599089e-02, -6.25944436e-01,  1.25514746e-01,\n",
              "           1.02144480e+00]],\n",
              " \n",
              "        [[-9.51110348e-02, -1.21576726e+00,  2.06664920e-01,\n",
              "           2.02647972e+00],\n",
              "         [-1.19426385e-01, -1.41234171e+00,  2.47194529e-01,\n",
              "           2.37539482e+00]],\n",
              " \n",
              "        [[ 4.38002460e-02,  1.48718432e-01, -4.88753766e-02,\n",
              "          -3.01017404e-01],\n",
              "         [ 4.67746146e-02,  3.44501704e-01, -5.48957214e-02,\n",
              "          -6.08705282e-01]],\n",
              " \n",
              "        [[ 8.92064497e-02,  9.34738636e-01, -1.31528392e-01,\n",
              "          -1.60431612e+00],\n",
              "         [ 1.07901223e-01,  7.41395354e-01, -1.63614720e-01,\n",
              "          -1.35536408e+00]],\n",
              " \n",
              "        [[ 1.80693958e-02,  1.08909690e+00,  1.29222080e-01,\n",
              "          -6.52849197e-01],\n",
              "         [ 3.98513339e-02,  1.28220510e+00,  1.16165087e-01,\n",
              "          -9.02210832e-01]],\n",
              " \n",
              "        [[-1.06174298e-01, -2.34381437e-01,  1.36663496e-01,\n",
              "           4.71726418e-01],\n",
              "         [-1.10861920e-01, -4.31142241e-01,  1.46098033e-01,\n",
              "           8.04169834e-01]],\n",
              " \n",
              "        [[-9.76218805e-02, -4.27620560e-01,  1.22191727e-01,\n",
              "           7.23588824e-01],\n",
              "         [-1.06174298e-01, -2.34381437e-01,  1.36663496e-01,\n",
              "           4.71726418e-01]],\n",
              " \n",
              "        [[ 1.22729130e-01,  9.38148201e-01, -1.90721989e-01,\n",
              "          -1.69444036e+00],\n",
              "         [ 1.41492099e-01,  7.45670736e-01, -2.24610806e-01,\n",
              "          -1.46669221e+00]],\n",
              " \n",
              "        [[-9.26429778e-03, -4.20671701e-01, -4.04999172e-03,\n",
              "           5.65534711e-01],\n",
              "         [-1.76777318e-02, -2.25493163e-01,  7.26070208e-03,\n",
              "           2.71578610e-01]],\n",
              " \n",
              "        [[ 1.94605455e-01,  7.48768568e-01, -2.02241838e-01,\n",
              "          -1.28326476e+00],\n",
              "         [ 2.09580839e-01,  5.56712866e-01, -2.27907121e-01,\n",
              "          -1.06010735e+00]],\n",
              " \n",
              "        [[ 5.66684194e-02,  3.46197665e-01, -7.37459436e-02,\n",
              "          -6.46862209e-01],\n",
              "         [ 6.35923743e-02,  5.42265475e-01, -8.66831839e-02,\n",
              "          -9.61826205e-01]],\n",
              " \n",
              "        [[-1.19484767e-01, -2.38293067e-01,  1.62181422e-01,\n",
              "           5.60777962e-01],\n",
              "         [-1.24250628e-01, -4.57741991e-02,  1.73396990e-01,\n",
              "           3.23261797e-01]],\n",
              " \n",
              "        [[-1.12633504e-01,  3.33636373e-01,  1.82896987e-01,\n",
              "          -2.84173898e-02],\n",
              "         [-1.05960779e-01,  5.25728583e-01,  1.82328641e-01,\n",
              "          -2.58277416e-01]],\n",
              " \n",
              "        [[ 2.16322280e-02,  2.14976162e-01,  2.13037096e-02,\n",
              "          -2.63798237e-01],\n",
              "         [ 2.59317514e-02,  1.95567068e-02,  1.60277449e-02,\n",
              "           3.55272368e-02]],\n",
              " \n",
              "        [[ 7.44376779e-02,  7.38438606e-01, -1.05919711e-01,\n",
              "          -1.28043401e+00],\n",
              "         [ 8.92064497e-02,  9.34738636e-01, -1.31528392e-01,\n",
              "          -1.60431612e+00]],\n",
              " \n",
              "        [[ 1.35626331e-01,  6.08915925e-01, -1.35013357e-01,\n",
              "          -9.38013077e-01],\n",
              "         [ 1.47804648e-01,  4.15847242e-01, -1.53773621e-01,\n",
              "          -6.90618992e-01]],\n",
              " \n",
              "        [[-6.42027408e-02,  5.15776098e-01,  1.68412402e-01,\n",
              "          -3.48063521e-02],\n",
              "         [-5.38872220e-02,  7.08132923e-01,  1.67716280e-01,\n",
              "          -2.69979924e-01]],\n",
              " \n",
              "        [[ 1.35626331e-01,  6.08915925e-01, -1.35013357e-01,\n",
              "          -9.38013077e-01],\n",
              "         [ 1.47804648e-01,  4.15847242e-01, -1.53773621e-01,\n",
              "          -6.90618992e-01]],\n",
              " \n",
              "        [[ 8.59045833e-02,  7.41173685e-01, -3.55270132e-02,\n",
              "          -1.09309340e+00],\n",
              "         [ 1.00728057e-01,  9.36745286e-01, -5.73888794e-02,\n",
              "          -1.39670837e+00]],\n",
              " \n",
              "        [[ 1.47804648e-01,  4.15847242e-01, -1.53773621e-01,\n",
              "          -6.90618992e-01],\n",
              "         [ 1.56121597e-01,  2.23155528e-01, -1.67585999e-01,\n",
              "          -4.50023532e-01]],\n",
              " \n",
              "        [[ 2.16322280e-02,  2.14976162e-01,  2.13037096e-02,\n",
              "          -2.63798237e-01],\n",
              "         [ 2.59317514e-02,  1.95567068e-02,  1.60277449e-02,\n",
              "           3.55272368e-02]],\n",
              " \n",
              "        [[ 8.69041961e-03,  4.11282688e-01,  3.80946025e-02,\n",
              "          -5.83105743e-01],\n",
              "         [ 1.69160739e-02,  2.15648323e-01,  2.64324881e-02,\n",
              "          -2.78670013e-01]],\n",
              " \n",
              "        [[ 1.53080866e-01,  1.13478458e+00, -1.36586919e-01,\n",
              "          -1.76501048e+00],\n",
              "         [ 1.75776556e-01,  9.41445589e-01, -1.71887130e-01,\n",
              "          -1.51773489e+00]],\n",
              " \n",
              "        [[ 9.50069949e-02,  1.27932346e+00,  7.49960840e-02,\n",
              "          -8.34472418e-01],\n",
              "         [ 1.20593466e-01,  1.47334516e+00,  5.83066344e-02,\n",
              "          -1.10265863e+00]],\n",
              " \n",
              "        [[ 1.46141014e-04,  8.96162689e-01,  1.37350634e-01,\n",
              "          -4.06427622e-01],\n",
              "         [ 1.80693958e-02,  1.08909690e+00,  1.29222080e-01,\n",
              "          -6.52849197e-01]],\n",
              " \n",
              "        [[-3.97245623e-02,  9.00514007e-01,  1.62316680e-01,\n",
              "          -5.05424798e-01],\n",
              "         [-2.17142832e-02,  1.09302115e+00,  1.52208194e-01,\n",
              "          -7.42878079e-01]],\n",
              " \n",
              "        [[-8.88754949e-02,  5.20734012e-01,  1.78881437e-01,\n",
              "          -1.46053940e-01],\n",
              "         [-7.84608126e-02,  7.12903440e-01,  1.75960362e-01,\n",
              "          -3.77397418e-01]],\n",
              " \n",
              "        [[-1.15462758e-01,  1.41462684e-01,  1.78838044e-01,\n",
              "           2.02947125e-01],\n",
              "         [-1.12633504e-01,  3.33636373e-01,  1.82896987e-01,\n",
              "          -2.84173898e-02]],\n",
              " \n",
              "        [[ 1.46141014e-04,  8.96162689e-01,  1.37350634e-01,\n",
              "          -4.06427622e-01],\n",
              "         [ 1.80693958e-02,  1.08909690e+00,  1.29222080e-01,\n",
              "          -6.52849197e-01]],\n",
              " \n",
              "        [[-2.08023377e-03, -1.40837459e-02, -1.53703140e-02,\n",
              "          -7.35224178e-03],\n",
              "         [ 4.22215201e-02,  3.51358980e-01,  2.84688193e-02,\n",
              "          -5.17137766e-01]],\n",
              " \n",
              "        [[ 8.69041961e-03,  4.11282688e-01,  3.80946025e-02,\n",
              "          -5.83105743e-01],\n",
              "         [ 1.69160739e-02,  2.15648323e-01,  2.64324881e-02,\n",
              "          -2.78670013e-01]],\n",
              " \n",
              "        [[ 8.69041961e-03,  4.11282688e-01,  3.80946025e-02,\n",
              "          -5.83105743e-01],\n",
              "         [ 1.69160739e-02,  2.15648323e-01,  2.64324881e-02,\n",
              "          -2.78670013e-01]],\n",
              " \n",
              "        [[-1.22235924e-01,  3.38658512e-01,  1.81659922e-01,\n",
              "          -1.41094133e-01],\n",
              "         [-1.15462758e-01,  1.41462684e-01,  1.78838044e-01,\n",
              "           2.02947125e-01]],\n",
              " \n",
              "        [[ 1.75610498e-01,  1.08190620e+00,  2.04081107e-02,\n",
              "          -4.88403618e-01],\n",
              "         [ 1.97248623e-01,  8.86502385e-01,  1.06400372e-02,\n",
              "          -1.89359307e-01]],\n",
              " \n",
              "        [[ 2.28803277e-01,  4.96010363e-01,  8.98607261e-03,\n",
              "           4.01498109e-01],\n",
              "         [ 2.38723472e-01,  6.91003680e-01,  1.70160346e-02,\n",
              "           1.11661769e-01]],\n",
              " \n",
              "        [[ 1.97248623e-01,  8.86502385e-01,  1.06400372e-02,\n",
              "          -1.89359307e-01],\n",
              "         [ 2.14978680e-01,  6.91229820e-01,  6.85285125e-03,\n",
              "           1.06661044e-01]],\n",
              " \n",
              "        [[-8.35758727e-03, -8.17418098e-01,  6.78613558e-02,\n",
              "           1.22876179e+00],\n",
              "         [-2.47059502e-02, -6.23231828e-01,  9.24365893e-02,\n",
              "           9.58088815e-01]],\n",
              " \n",
              "        [[ 1.94605455e-01,  7.48768568e-01, -2.02241838e-01,\n",
              "          -1.28326476e+00],\n",
              "         [ 2.09580839e-01,  5.56712866e-01, -2.27907121e-01,\n",
              "          -1.06010735e+00]],\n",
              " \n",
              "        [[ 2.12290399e-02,  2.01594606e-02,  2.08590887e-02,\n",
              "           2.22311057e-02],\n",
              "         [ 2.16322280e-02,  2.14976162e-01,  2.13037096e-02,\n",
              "          -2.63798237e-01]],\n",
              " \n",
              "        [[ 8.59045833e-02,  7.41173685e-01, -3.55270132e-02,\n",
              "          -1.09309340e+00],\n",
              "         [ 1.00728057e-01,  9.36745286e-01, -5.73888794e-02,\n",
              "          -1.39670837e+00]],\n",
              " \n",
              "        [[-9.76218805e-02, -4.27620560e-01,  1.22191727e-01,\n",
              "           7.23588824e-01],\n",
              "         [-1.06174298e-01, -2.34381437e-01,  1.36663496e-01,\n",
              "           4.71726418e-01]],\n",
              " \n",
              "        [[ 1.94605455e-01,  7.48768568e-01, -2.02241838e-01,\n",
              "          -1.28326476e+00],\n",
              "         [ 2.09580839e-01,  5.56712866e-01, -2.27907121e-01,\n",
              "          -1.06010735e+00]],\n",
              " \n",
              "        [[-1.15462758e-01,  1.41462684e-01,  1.78838044e-01,\n",
              "           2.02947125e-01],\n",
              "         [-1.12633504e-01,  3.33636373e-01,  1.82896987e-01,\n",
              "          -2.84173898e-02]],\n",
              " \n",
              "        [[-1.19484767e-01, -2.38293067e-01,  1.62181422e-01,\n",
              "           5.60777962e-01],\n",
              "         [-1.24250628e-01, -4.57741991e-02,  1.73396990e-01,\n",
              "           3.23261797e-01]],\n",
              " \n",
              "        [[ 1.19462959e-01,  7.42382169e-01, -8.53230506e-02,\n",
              "          -1.12250674e+00],\n",
              "         [ 1.34310603e-01,  9.38512862e-01, -1.07773185e-01,\n",
              "          -1.44068706e+00]],\n",
              " \n",
              "        [[ 1.68988734e-01,  6.17252111e-01, -1.92396328e-01,\n",
              "          -1.13311815e+00],\n",
              "         [ 1.81333780e-01,  8.14299047e-01, -2.15058684e-01,\n",
              "          -1.47945118e+00]],\n",
              " \n",
              "        [[-4.13654605e-03, -3.07000633e-02, -9.29063652e-03,\n",
              "          -1.38524761e-02],\n",
              "         [-4.75054700e-03, -2.25687549e-01, -9.56768636e-03,\n",
              "           2.75884718e-01]],\n",
              " \n",
              "        [[ 1.35626331e-01,  6.08915925e-01, -1.35013357e-01,\n",
              "          -9.38013077e-01],\n",
              "         [ 1.47804648e-01,  4.15847242e-01, -1.53773621e-01,\n",
              "          -6.90618992e-01]],\n",
              " \n",
              "        [[ 6.01700768e-02,  7.40937471e-01,  2.11175624e-03,\n",
              "          -1.08764160e+00],\n",
              "         [ 7.49888271e-02,  5.45787752e-01, -1.96410771e-02,\n",
              "          -7.94296861e-01]],\n",
              " \n",
              "        [[-8.88754949e-02,  5.20734012e-01,  1.78881437e-01,\n",
              "          -1.46053940e-01],\n",
              "         [-7.84608126e-02,  7.12903440e-01,  1.75960362e-01,\n",
              "          -3.77397418e-01]],\n",
              " \n",
              "        [[ 1.75776556e-01,  9.41445589e-01, -1.71887130e-01,\n",
              "          -1.51773489e+00],\n",
              "         [ 1.94605455e-01,  7.48768568e-01, -2.02241838e-01,\n",
              "          -1.28326476e+00]],\n",
              " \n",
              "        [[-8.45071375e-02, -4.24658477e-01,  1.01120286e-01,\n",
              "           6.56389713e-01],\n",
              "         [-9.30003077e-02, -2.31078804e-01,  1.14248082e-01,\n",
              "           3.97182226e-01]],\n",
              " \n",
              "        [[-9.51110348e-02, -1.21576726e+00,  2.06664920e-01,\n",
              "           2.02647972e+00],\n",
              "         [-1.19426385e-01, -1.41234171e+00,  2.47194529e-01,\n",
              "           2.37539482e+00]],\n",
              " \n",
              "        [[-1.25166118e-01,  1.46509320e-01,  1.79862216e-01,\n",
              "           8.98852870e-02],\n",
              "         [-1.22235924e-01,  3.38658512e-01,  1.81659922e-01,\n",
              "          -1.41094133e-01]],\n",
              " \n",
              "        [[ 1.53080866e-01,  1.13478458e+00, -1.36586919e-01,\n",
              "          -1.76501048e+00],\n",
              "         [ 1.75776556e-01,  9.41445589e-01, -1.71887130e-01,\n",
              "          -1.51773489e+00]],\n",
              " \n",
              "        [[ 2.16322280e-02,  2.14976162e-01,  2.13037096e-02,\n",
              "          -2.63798237e-01],\n",
              "         [ 2.59317514e-02,  1.95567068e-02,  1.60277449e-02,\n",
              "           3.55272368e-02]],\n",
              " \n",
              "        [[ 1.19462959e-01,  7.42382169e-01, -8.53230506e-02,\n",
              "          -1.12250674e+00],\n",
              "         [ 1.34310603e-01,  9.38512862e-01, -1.07773185e-01,\n",
              "          -1.44068706e+00]],\n",
              " \n",
              "        [[ 3.87982726e-02,  2.14039758e-01,  9.08916350e-04,\n",
              "          -2.43067220e-01],\n",
              "         [ 4.30790670e-02,  4.09148723e-01, -3.95242823e-03,\n",
              "          -5.35463333e-01]]], dtype=float32)>,\n",
              "  'policy_info': (),\n",
              "  'reward': <tf.Tensor: shape=(64, 2), dtype=float32, numpy=\n",
              " array([[1., 1.],\n",
              "        [1., 1.],\n",
              "        [1., 1.],\n",
              "        [1., 1.],\n",
              "        [1., 1.],\n",
              "        [1., 1.],\n",
              "        [1., 1.],\n",
              "        [1., 0.],\n",
              "        [1., 1.],\n",
              "        [1., 1.],\n",
              "        [1., 1.],\n",
              "        [1., 1.],\n",
              "        [1., 1.],\n",
              "        [1., 0.],\n",
              "        [1., 1.],\n",
              "        [1., 0.],\n",
              "        [1., 1.],\n",
              "        [1., 1.],\n",
              "        [1., 1.],\n",
              "        [1., 1.],\n",
              "        [1., 1.],\n",
              "        [1., 1.],\n",
              "        [1., 1.],\n",
              "        [1., 1.],\n",
              "        [1., 1.],\n",
              "        [1., 1.],\n",
              "        [1., 1.],\n",
              "        [1., 1.],\n",
              "        [1., 1.],\n",
              "        [1., 1.],\n",
              "        [1., 1.],\n",
              "        [1., 1.],\n",
              "        [1., 1.],\n",
              "        [1., 1.],\n",
              "        [1., 1.],\n",
              "        [1., 1.],\n",
              "        [1., 1.],\n",
              "        [1., 1.],\n",
              "        [1., 1.],\n",
              "        [1., 1.],\n",
              "        [1., 1.],\n",
              "        [1., 1.],\n",
              "        [1., 1.],\n",
              "        [1., 0.],\n",
              "        [1., 1.],\n",
              "        [1., 1.],\n",
              "        [1., 1.],\n",
              "        [1., 0.],\n",
              "        [1., 1.],\n",
              "        [1., 1.],\n",
              "        [1., 1.],\n",
              "        [1., 0.],\n",
              "        [1., 1.],\n",
              "        [1., 1.],\n",
              "        [1., 1.],\n",
              "        [1., 1.],\n",
              "        [1., 1.],\n",
              "        [1., 1.],\n",
              "        [1., 0.],\n",
              "        [1., 1.],\n",
              "        [1., 1.],\n",
              "        [1., 1.],\n",
              "        [1., 1.],\n",
              "        [1., 1.]], dtype=float32)>,\n",
              "  'step_type': <tf.Tensor: shape=(64, 2), dtype=int32, numpy=\n",
              " array([[1, 1],\n",
              "        [1, 1],\n",
              "        [1, 1],\n",
              "        [1, 1],\n",
              "        [1, 1],\n",
              "        [1, 1],\n",
              "        [1, 1],\n",
              "        [1, 2],\n",
              "        [1, 1],\n",
              "        [1, 1],\n",
              "        [1, 1],\n",
              "        [1, 1],\n",
              "        [1, 1],\n",
              "        [1, 2],\n",
              "        [1, 1],\n",
              "        [1, 2],\n",
              "        [1, 1],\n",
              "        [1, 1],\n",
              "        [1, 1],\n",
              "        [1, 1],\n",
              "        [1, 1],\n",
              "        [1, 1],\n",
              "        [1, 1],\n",
              "        [1, 1],\n",
              "        [1, 1],\n",
              "        [1, 1],\n",
              "        [1, 1],\n",
              "        [1, 1],\n",
              "        [1, 1],\n",
              "        [1, 1],\n",
              "        [1, 1],\n",
              "        [1, 1],\n",
              "        [1, 1],\n",
              "        [1, 1],\n",
              "        [1, 1],\n",
              "        [0, 1],\n",
              "        [1, 1],\n",
              "        [1, 1],\n",
              "        [1, 1],\n",
              "        [1, 1],\n",
              "        [1, 1],\n",
              "        [1, 1],\n",
              "        [1, 1],\n",
              "        [1, 2],\n",
              "        [1, 1],\n",
              "        [1, 1],\n",
              "        [1, 1],\n",
              "        [1, 2],\n",
              "        [1, 1],\n",
              "        [1, 1],\n",
              "        [1, 1],\n",
              "        [1, 2],\n",
              "        [0, 1],\n",
              "        [1, 1],\n",
              "        [1, 1],\n",
              "        [1, 1],\n",
              "        [1, 1],\n",
              "        [1, 1],\n",
              "        [1, 2],\n",
              "        [1, 1],\n",
              "        [1, 1],\n",
              "        [1, 1],\n",
              "        [1, 1],\n",
              "        [1, 1]], dtype=int32)>}),\n",
              " SampleInfo(key=<tf.Tensor: shape=(64, 2), dtype=uint64, numpy=\n",
              " array([[ 2501378691368357018,  2501378691368357018],\n",
              "        [ 7223755796727925776,  7223755796727925776],\n",
              "        [13096920529403050406, 13096920529403050406],\n",
              "        [17877109306052008929, 17877109306052008929],\n",
              "        [12752246637016220315, 12752246637016220315],\n",
              "        [14965179946250874300, 14965179946250874300],\n",
              "        [17506790480706105526, 17506790480706105526],\n",
              "        [ 5612683700334691957,  5612683700334691957],\n",
              "        [14711683048043858585, 14711683048043858585],\n",
              "        [ 2590950537075799058,  2590950537075799058],\n",
              "        [ 2501378691368357018,  2501378691368357018],\n",
              "        [ 1991171219779360864,  1991171219779360864],\n",
              "        [ 7730503597979598824,  7730503597979598824],\n",
              "        [ 8959097170333596890,  8959097170333596890],\n",
              "        [13082448291445650571, 13082448291445650571],\n",
              "        [11940924090390358583, 11940924090390358583],\n",
              "        [ 2640644733953830220,  2640644733953830220],\n",
              "        [16788944948171554745, 16788944948171554745],\n",
              "        [ 1587217741487452441,  1587217741487452441],\n",
              "        [ 5487610167915983035,  5487610167915983035],\n",
              "        [ 2359112401547454659,  2359112401547454659],\n",
              "        [16390262900810566222, 16390262900810566222],\n",
              "        [ 5076078991549488946,  5076078991549488946],\n",
              "        [16390262900810566222, 16390262900810566222],\n",
              "        [ 4708749775246128612,  4708749775246128612],\n",
              "        [ 3773612322586824212,  3773612322586824212],\n",
              "        [ 5487610167915983035,  5487610167915983035],\n",
              "        [14559624417160542445, 14559624417160542445],\n",
              "        [13096920529403050406, 13096920529403050406],\n",
              "        [13600088442974748847, 13600088442974748847],\n",
              "        [17973761337672886636, 17973761337672886636],\n",
              "        [10732716219800076213, 10732716219800076213],\n",
              "        [14517840039761961628, 14517840039761961628],\n",
              "        [ 5507032260249811720,  5507032260249811720],\n",
              "        [17973761337672886636, 17973761337672886636],\n",
              "        [15462910623928911812, 15462910623928911812],\n",
              "        [14559624417160542445, 14559624417160542445],\n",
              "        [14559624417160542445, 14559624417160542445],\n",
              "        [ 8007577932687795225,  8007577932687795225],\n",
              "        [ 5386126294211532913,  5386126294211532913],\n",
              "        [ 7552378077800436805,  7552378077800436805],\n",
              "        [ 6860391416023191320,  6860391416023191320],\n",
              "        [ 3619591636302969763,  3619591636302969763],\n",
              "        [11940924090390358583, 11940924090390358583],\n",
              "        [14965268450710151151, 14965268450710151151],\n",
              "        [ 4708749775246128612,  4708749775246128612],\n",
              "        [ 7730503597979598824,  7730503597979598824],\n",
              "        [11940924090390358583, 11940924090390358583],\n",
              "        [ 5507032260249811720,  5507032260249811720],\n",
              "        [16788944948171554745, 16788944948171554745],\n",
              "        [14083051640134457485, 14083051640134457485],\n",
              "        [14302216389267829273, 14302216389267829273],\n",
              "        [ 1037380501253550492,  1037380501253550492],\n",
              "        [16390262900810566222, 16390262900810566222],\n",
              "        [16899657281256058934, 16899657281256058934],\n",
              "        [14517840039761961628, 14517840039761961628],\n",
              "        [ 7223755796727925776,  7223755796727925776],\n",
              "        [12947459311474416971, 12947459311474416971],\n",
              "        [ 5612683700334691957,  5612683700334691957],\n",
              "        [ 6489872857619541868,  6489872857619541868],\n",
              "        [13096920529403050406, 13096920529403050406],\n",
              "        [ 5487610167915983035,  5487610167915983035],\n",
              "        [14083051640134457485, 14083051640134457485],\n",
              "        [17810798648505391313, 17810798648505391313]], dtype=uint64)>, probability=<tf.Tensor: shape=(64, 2), dtype=float64, numpy=\n",
              " array([[0.01010101, 0.01010101],\n",
              "        [0.01010101, 0.01010101],\n",
              "        [0.01010101, 0.01010101],\n",
              "        [0.01010101, 0.01010101],\n",
              "        [0.01010101, 0.01010101],\n",
              "        [0.01010101, 0.01010101],\n",
              "        [0.01010101, 0.01010101],\n",
              "        [0.01010101, 0.01010101],\n",
              "        [0.01010101, 0.01010101],\n",
              "        [0.01010101, 0.01010101],\n",
              "        [0.01010101, 0.01010101],\n",
              "        [0.01010101, 0.01010101],\n",
              "        [0.01010101, 0.01010101],\n",
              "        [0.01010101, 0.01010101],\n",
              "        [0.01010101, 0.01010101],\n",
              "        [0.01010101, 0.01010101],\n",
              "        [0.01010101, 0.01010101],\n",
              "        [0.01010101, 0.01010101],\n",
              "        [0.01010101, 0.01010101],\n",
              "        [0.01010101, 0.01010101],\n",
              "        [0.01010101, 0.01010101],\n",
              "        [0.01010101, 0.01010101],\n",
              "        [0.01010101, 0.01010101],\n",
              "        [0.01010101, 0.01010101],\n",
              "        [0.01010101, 0.01010101],\n",
              "        [0.01010101, 0.01010101],\n",
              "        [0.01010101, 0.01010101],\n",
              "        [0.01010101, 0.01010101],\n",
              "        [0.01010101, 0.01010101],\n",
              "        [0.01010101, 0.01010101],\n",
              "        [0.01010101, 0.01010101],\n",
              "        [0.01010101, 0.01010101],\n",
              "        [0.01010101, 0.01010101],\n",
              "        [0.01010101, 0.01010101],\n",
              "        [0.01010101, 0.01010101],\n",
              "        [0.01010101, 0.01010101],\n",
              "        [0.01010101, 0.01010101],\n",
              "        [0.01010101, 0.01010101],\n",
              "        [0.01010101, 0.01010101],\n",
              "        [0.01010101, 0.01010101],\n",
              "        [0.01010101, 0.01010101],\n",
              "        [0.01010101, 0.01010101],\n",
              "        [0.01010101, 0.01010101],\n",
              "        [0.01010101, 0.01010101],\n",
              "        [0.01010101, 0.01010101],\n",
              "        [0.01010101, 0.01010101],\n",
              "        [0.01010101, 0.01010101],\n",
              "        [0.01010101, 0.01010101],\n",
              "        [0.01010101, 0.01010101],\n",
              "        [0.01010101, 0.01010101],\n",
              "        [0.01010101, 0.01010101],\n",
              "        [0.01010101, 0.01010101],\n",
              "        [0.01010101, 0.01010101],\n",
              "        [0.01010101, 0.01010101],\n",
              "        [0.01010101, 0.01010101],\n",
              "        [0.01010101, 0.01010101],\n",
              "        [0.01010101, 0.01010101],\n",
              "        [0.01010101, 0.01010101],\n",
              "        [0.01010101, 0.01010101],\n",
              "        [0.01010101, 0.01010101],\n",
              "        [0.01010101, 0.01010101],\n",
              "        [0.01010101, 0.01010101],\n",
              "        [0.01010101, 0.01010101],\n",
              "        [0.01010101, 0.01010101]])>, table_size=<tf.Tensor: shape=(64, 2), dtype=int64, numpy=\n",
              " array([[99, 99],\n",
              "        [99, 99],\n",
              "        [99, 99],\n",
              "        [99, 99],\n",
              "        [99, 99],\n",
              "        [99, 99],\n",
              "        [99, 99],\n",
              "        [99, 99],\n",
              "        [99, 99],\n",
              "        [99, 99],\n",
              "        [99, 99],\n",
              "        [99, 99],\n",
              "        [99, 99],\n",
              "        [99, 99],\n",
              "        [99, 99],\n",
              "        [99, 99],\n",
              "        [99, 99],\n",
              "        [99, 99],\n",
              "        [99, 99],\n",
              "        [99, 99],\n",
              "        [99, 99],\n",
              "        [99, 99],\n",
              "        [99, 99],\n",
              "        [99, 99],\n",
              "        [99, 99],\n",
              "        [99, 99],\n",
              "        [99, 99],\n",
              "        [99, 99],\n",
              "        [99, 99],\n",
              "        [99, 99],\n",
              "        [99, 99],\n",
              "        [99, 99],\n",
              "        [99, 99],\n",
              "        [99, 99],\n",
              "        [99, 99],\n",
              "        [99, 99],\n",
              "        [99, 99],\n",
              "        [99, 99],\n",
              "        [99, 99],\n",
              "        [99, 99],\n",
              "        [99, 99],\n",
              "        [99, 99],\n",
              "        [99, 99],\n",
              "        [99, 99],\n",
              "        [99, 99],\n",
              "        [99, 99],\n",
              "        [99, 99],\n",
              "        [99, 99],\n",
              "        [99, 99],\n",
              "        [99, 99],\n",
              "        [99, 99],\n",
              "        [99, 99],\n",
              "        [99, 99],\n",
              "        [99, 99],\n",
              "        [99, 99],\n",
              "        [99, 99],\n",
              "        [99, 99],\n",
              "        [99, 99],\n",
              "        [99, 99],\n",
              "        [99, 99],\n",
              "        [99, 99],\n",
              "        [99, 99],\n",
              "        [99, 99],\n",
              "        [99, 99]])>, priority=<tf.Tensor: shape=(64, 2), dtype=float64, numpy=\n",
              " array([[1., 1.],\n",
              "        [1., 1.],\n",
              "        [1., 1.],\n",
              "        [1., 1.],\n",
              "        [1., 1.],\n",
              "        [1., 1.],\n",
              "        [1., 1.],\n",
              "        [1., 1.],\n",
              "        [1., 1.],\n",
              "        [1., 1.],\n",
              "        [1., 1.],\n",
              "        [1., 1.],\n",
              "        [1., 1.],\n",
              "        [1., 1.],\n",
              "        [1., 1.],\n",
              "        [1., 1.],\n",
              "        [1., 1.],\n",
              "        [1., 1.],\n",
              "        [1., 1.],\n",
              "        [1., 1.],\n",
              "        [1., 1.],\n",
              "        [1., 1.],\n",
              "        [1., 1.],\n",
              "        [1., 1.],\n",
              "        [1., 1.],\n",
              "        [1., 1.],\n",
              "        [1., 1.],\n",
              "        [1., 1.],\n",
              "        [1., 1.],\n",
              "        [1., 1.],\n",
              "        [1., 1.],\n",
              "        [1., 1.],\n",
              "        [1., 1.],\n",
              "        [1., 1.],\n",
              "        [1., 1.],\n",
              "        [1., 1.],\n",
              "        [1., 1.],\n",
              "        [1., 1.],\n",
              "        [1., 1.],\n",
              "        [1., 1.],\n",
              "        [1., 1.],\n",
              "        [1., 1.],\n",
              "        [1., 1.],\n",
              "        [1., 1.],\n",
              "        [1., 1.],\n",
              "        [1., 1.],\n",
              "        [1., 1.],\n",
              "        [1., 1.],\n",
              "        [1., 1.],\n",
              "        [1., 1.],\n",
              "        [1., 1.],\n",
              "        [1., 1.],\n",
              "        [1., 1.],\n",
              "        [1., 1.],\n",
              "        [1., 1.],\n",
              "        [1., 1.],\n",
              "        [1., 1.],\n",
              "        [1., 1.],\n",
              "        [1., 1.],\n",
              "        [1., 1.],\n",
              "        [1., 1.],\n",
              "        [1., 1.],\n",
              "        [1., 1.],\n",
              "        [1., 1.]])>, times_sampled=<tf.Tensor: shape=(64, 2), dtype=int32, numpy=\n",
              " array([[1, 1],\n",
              "        [1, 1],\n",
              "        [1, 1],\n",
              "        [1, 1],\n",
              "        [2, 2],\n",
              "        [1, 1],\n",
              "        [1, 1],\n",
              "        [1, 1],\n",
              "        [2, 2],\n",
              "        [1, 1],\n",
              "        [4, 4],\n",
              "        [1, 1],\n",
              "        [3, 3],\n",
              "        [2, 2],\n",
              "        [4, 4],\n",
              "        [4, 4],\n",
              "        [1, 1],\n",
              "        [3, 3],\n",
              "        [4, 4],\n",
              "        [2, 2],\n",
              "        [2, 2],\n",
              "        [1, 1],\n",
              "        [2, 2],\n",
              "        [2, 2],\n",
              "        [3, 3],\n",
              "        [3, 3],\n",
              "        [3, 3],\n",
              "        [4, 4],\n",
              "        [5, 5],\n",
              "        [3, 3],\n",
              "        [2, 2],\n",
              "        [3, 3],\n",
              "        [3, 3],\n",
              "        [3, 3],\n",
              "        [3, 3],\n",
              "        [3, 3],\n",
              "        [2, 2],\n",
              "        [3, 3],\n",
              "        [3, 3],\n",
              "        [2, 2],\n",
              "        [6, 6],\n",
              "        [6, 6],\n",
              "        [3, 3],\n",
              "        [5, 5],\n",
              "        [2, 2],\n",
              "        [4, 4],\n",
              "        [4, 4],\n",
              "        [6, 6],\n",
              "        [4, 4],\n",
              "        [4, 4],\n",
              "        [2, 2],\n",
              "        [2, 2],\n",
              "        [4, 4],\n",
              "        [3, 3],\n",
              "        [3, 3],\n",
              "        [4, 4],\n",
              "        [2, 2],\n",
              "        [4, 4],\n",
              "        [2, 2],\n",
              "        [4, 4],\n",
              "        [6, 6],\n",
              "        [4, 4],\n",
              "        [3, 3],\n",
              "        [1, 1]], dtype=int32)>))"
            ]
          },
          "metadata": {},
          "execution_count": 30
        }
      ]
    },
    {
      "cell_type": "markdown",
      "source": [
        "Training the agent"
      ],
      "metadata": {
        "id": "buiJIhPLOuAI"
      }
    },
    {
      "cell_type": "code",
      "source": [
        "try:\n",
        "  %%time\n",
        "except:\n",
        "  pass\n",
        "\n",
        "# (Optional) Optimize by wrapping some of the code in a graph using TF function.\n",
        "agent.train = common.function(agent.train)\n",
        "\n",
        "# Reset the train step.\n",
        "agent.train_step_counter.assign(0)\n",
        "\n",
        "# Evaluate the agent's policy once before training.\n",
        "avg_return = compute_avg_return(eval_env, agent.policy, num_eval_episodes)\n",
        "returns = [avg_return]\n",
        "\n",
        "# Reset the environment.\n",
        "time_step = train_py_env.reset()\n",
        "\n",
        "# Create a driver to collect experience.\n",
        "collect_driver = py_driver.PyDriver(\n",
        "    env,\n",
        "    py_tf_eager_policy.PyTFEagerPolicy(\n",
        "      agent.collect_policy, use_tf_function=True),\n",
        "    [rb_observer],\n",
        "    max_steps=collect_steps_per_iteration)\n",
        "\n",
        "for _ in range(num_iterations):\n",
        "\n",
        "  # Collect a few steps and save to the replay buffer.\n",
        "  time_step, _ = collect_driver.run(time_step)\n",
        "\n",
        "  # Sample a batch of data from the buffer and update the agent's network.\n",
        "  experience, unused_info = next(iterator)\n",
        "  train_loss = agent.train(experience).loss\n",
        "\n",
        "  step = agent.train_step_counter.numpy()\n",
        "\n",
        "  if step % log_interval == 0:\n",
        "    print('step = {0}: loss = {1}'.format(step, train_loss))\n",
        "\n",
        "  if step % eval_interval == 0:\n",
        "    avg_return = compute_avg_return(eval_env, agent.policy, num_eval_episodes)\n",
        "    print('step = {0}: Average Return = {1}'.format(step, avg_return))\n",
        "    returns.append(avg_return)"
      ],
      "metadata": {
        "colab": {
          "base_uri": "https://localhost:8080/"
        },
        "id": "0HsqkRxOOmXZ",
        "outputId": "9e439244-09e2-46e5-ba4d-01ac38093fd0"
      },
      "execution_count": 31,
      "outputs": [
        {
          "output_type": "stream",
          "name": "stderr",
          "text": [
            "WARNING:tensorflow:From /usr/local/lib/python3.10/dist-packages/tensorflow/python/util/dispatch.py:1176: calling foldr_v2 (from tensorflow.python.ops.functional_ops) with back_prop=False is deprecated and will be removed in a future version.\n",
            "Instructions for updating:\n",
            "back_prop=False is deprecated. Consider using tf.stop_gradient instead.\n",
            "Instead of:\n",
            "results = tf.foldr(fn, elems, back_prop=False)\n",
            "Use:\n",
            "results = tf.nest.map_structure(tf.stop_gradient, tf.foldr(fn, elems))\n"
          ]
        },
        {
          "output_type": "stream",
          "name": "stdout",
          "text": [
            "step = 200: loss = 74.30530548095703\n",
            "step = 400: loss = 49.49486541748047\n",
            "step = 600: loss = 76.71678161621094\n",
            "step = 800: loss = 129.86337280273438\n",
            "step = 1000: loss = 242.76756286621094\n",
            "step = 1000: Average Return = 52.5\n",
            "step = 1200: loss = 237.41354370117188\n",
            "step = 1400: loss = 41.103759765625\n",
            "step = 1600: loss = 36.792449951171875\n",
            "step = 1800: loss = 337.6756591796875\n",
            "step = 2000: loss = 68.7262191772461\n",
            "step = 2000: Average Return = 289.20001220703125\n"
          ]
        }
      ]
    },
    {
      "cell_type": "markdown",
      "source": [
        "**Visualization**"
      ],
      "metadata": {
        "id": "-ENfNmCBOzip"
      }
    },
    {
      "cell_type": "markdown",
      "source": [
        "Plots"
      ],
      "metadata": {
        "id": "km87w23HO_gl"
      }
    },
    {
      "cell_type": "code",
      "source": [
        "iterations = range(0, num_iterations + 1, eval_interval)\n",
        "plt.plot(iterations, returns)\n",
        "plt.ylabel('Average Return')\n",
        "plt.xlabel('Iterations')\n",
        "plt.ylim(top=250)"
      ],
      "metadata": {
        "colab": {
          "base_uri": "https://localhost:8080/",
          "height": 472
        },
        "id": "oTr9anfaOxKb",
        "outputId": "1494a1ad-50f3-4b67-dce7-674e088e6bfa"
      },
      "execution_count": 32,
      "outputs": [
        {
          "output_type": "execute_result",
          "data": {
            "text/plain": [
              "(-4.4850006103515625, 250.0)"
            ]
          },
          "metadata": {},
          "execution_count": 32
        },
        {
          "output_type": "display_data",
          "data": {
            "text/plain": [
              "<Figure size 640x480 with 1 Axes>"
            ],
            "image/png": "[encoded data removed]"
          },
          "metadata": {}
        }
      ]
    },
    {
      "cell_type": "markdown",
      "source": [
        "Videos"
      ],
      "metadata": {
        "id": "j9FQhKt4PEsA"
      }
    },
    {
      "cell_type": "code",
      "source": [
        "def embed_mp4(filename):\n",
        "  \"\"\"Embeds an mp4 file in the notebook.\"\"\"\n",
        "  video = open(filename,'rb').read()\n",
        "  b64 = base64.b64encode(video)\n",
        "  tag = '''\n",
        "  <video width=\"640\" height=\"480\" controls>\n",
        "    <source src=\"data:video/mp4;base64,{0}\" type=\"video/mp4\">\n",
        "  Your browser does not support the video tag.\n",
        "  </video>'''.format(b64.decode())\n",
        "\n",
        "  return IPython.display.HTML(tag)"
      ],
      "metadata": {
        "id": "hR5N6rsvPCe2"
      },
      "execution_count": 33,
      "outputs": []
    },
    {
      "cell_type": "code",
      "source": [
        "def create_policy_eval_video(policy, filename, num_episodes=5, fps=30):\n",
        "  filename = filename + \".mp4\"\n",
        "  with imageio.get_writer(filename, fps=fps) as video:\n",
        "    for _ in range(num_episodes):\n",
        "      time_step = eval_env.reset()\n",
        "      video.append_data(eval_py_env.render())\n",
        "      while not time_step.is_last():\n",
        "        action_step = policy.action(time_step)\n",
        "        time_step = eval_env.step(action_step.action)\n",
        "        video.append_data(eval_py_env.render())\n",
        "  return embed_mp4(filename)\n",
        "\n",
        "create_policy_eval_video(agent.policy, \"trained-agent\")"
      ],
      "metadata": {
        "colab": {
          "base_uri": "https://localhost:8080/",
          "height": 539
        },
        "id": "iUNMXoQdPIKc",
        "outputId": "d4626743-8283-4607-b82b-d87b9764e48a"
      },
      "execution_count": 34,
      "outputs": [
        {
          "output_type": "stream",
          "name": "stderr",
          "text": [
            "WARNING:imageio_ffmpeg:IMAGEIO FFMPEG_WRITER WARNING: input image is not divisible by macro_block_size=16, resizing from (600, 400) to (608, 400) to ensure video compatibility with most codecs and players. To prevent resizing, make your input image divisible by the macro_block_size or set the macro_block_size to 1 (risking incompatibility).\n"
          ]
        },
        {
          "output_type": "execute_result",
          "data": {
            "text/plain": [
              "<IPython.core.display.HTML object>"
            ],
            "text/html": [
              "\n",
              "  <video width=\"640\" height=\"480\" controls>\n",
              "    <source src=\"data:video/mp4;base64,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\" type=\"video/mp4\">\n",
              "  Your browser does not support the video tag.\n",
              "  </video>"
            ]
          },
          "metadata": {},
          "execution_count": 34
        }
      ]
    },
    {
      "cell_type": "code",
      "source": [
        "create_policy_eval_video(random_policy, \"random-agent\")"
      ],
      "metadata": {
        "colab": {
          "base_uri": "https://localhost:8080/",
          "height": 539
        },
        "id": "X1OEkCPBPJ2S",
        "outputId": "a2d04628-8207-4da2-d3b0-4bb986d19db0"
      },
      "execution_count": 35,
      "outputs": [
        {
          "output_type": "stream",
          "name": "stderr",
          "text": [
            "WARNING:imageio_ffmpeg:IMAGEIO FFMPEG_WRITER WARNING: input image is not divisible by macro_block_size=16, resizing from (600, 400) to (608, 400) to ensure video compatibility with most codecs and players. To prevent resizing, make your input image divisible by the macro_block_size or set the macro_block_size to 1 (risking incompatibility).\n"
          ]
        },
        {
          "output_type": "execute_result",
          "data": {
            "text/plain": [
              "<IPython.core.display.HTML object>"
            ],
            "text/html": [
              "\n",
              "  <video width=\"640\" height=\"480\" controls>\n",
              "    <source src=\"data:video/mp4;base64,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\" type=\"video/mp4\">\n",
              "  Your browser does not support the video tag.\n",
              "  </video>"
            ]
          },
          "metadata": {},
          "execution_count": 35
        }
      ]
    },
    {
      "cell_type": "code",
      "source": [],
      "metadata": {
        "id": "twmnW1_JPN3O"
      },
      "execution_count": null,
      "outputs": []
    }
  ]
}