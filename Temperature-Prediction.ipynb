{
 "cells": [
  {
   "cell_type": "code",
   "execution_count": 1,
   "id": "a54f52db-56ee-4abe-9cf5-356db824e316",
   "metadata": {},
   "outputs": [],
   "source": [
    "import pandas as pd"
   ]
  },
  {
   "cell_type": "code",
   "execution_count": 2,
   "id": "970ce33b-decd-4ffa-a568-f8cc5ae7a349",
   "metadata": {},
   "outputs": [],
   "source": [
    "weather = pd.read_csv(\"Chennai_1990_2022_Madras.csv\", index_col=\"time\")"
   ]
  },
  {
   "cell_type": "code",
   "execution_count": 3,
   "id": "0539e2c8-227b-47c9-8f4a-937eddb6eeb1",
   "metadata": {},
   "outputs": [
    {
     "data": {
      "text/html": [
       "<div>\n",
       "<style scoped>\n",
       "    .dataframe tbody tr th:only-of-type {\n",
       "        vertical-align: middle;\n",
       "    }\n",
       "\n",
       "    .dataframe tbody tr th {\n",
       "        vertical-align: top;\n",
       "    }\n",
       "\n",
       "    .dataframe thead th {\n",
       "        text-align: right;\n",
       "    }\n",
       "</style>\n",
       "<table border=\"1\" class=\"dataframe\">\n",
       "  <thead>\n",
       "    <tr style=\"text-align: right;\">\n",
       "      <th></th>\n",
       "      <th>tavg</th>\n",
       "      <th>tmin</th>\n",
       "      <th>tmax</th>\n",
       "      <th>prcp</th>\n",
       "    </tr>\n",
       "    <tr>\n",
       "      <th>time</th>\n",
       "      <th></th>\n",
       "      <th></th>\n",
       "      <th></th>\n",
       "      <th></th>\n",
       "    </tr>\n",
       "  </thead>\n",
       "  <tbody>\n",
       "    <tr>\n",
       "      <th>01-01-1990</th>\n",
       "      <td>25.2</td>\n",
       "      <td>22.8</td>\n",
       "      <td>28.4</td>\n",
       "      <td>0.5</td>\n",
       "    </tr>\n",
       "    <tr>\n",
       "      <th>02-01-1990</th>\n",
       "      <td>24.9</td>\n",
       "      <td>21.7</td>\n",
       "      <td>29.1</td>\n",
       "      <td>0.0</td>\n",
       "    </tr>\n",
       "    <tr>\n",
       "      <th>03-01-1990</th>\n",
       "      <td>25.6</td>\n",
       "      <td>21.4</td>\n",
       "      <td>29.8</td>\n",
       "      <td>0.0</td>\n",
       "    </tr>\n",
       "    <tr>\n",
       "      <th>04-01-1990</th>\n",
       "      <td>25.7</td>\n",
       "      <td>NaN</td>\n",
       "      <td>28.7</td>\n",
       "      <td>0.0</td>\n",
       "    </tr>\n",
       "    <tr>\n",
       "      <th>05-01-1990</th>\n",
       "      <td>25.5</td>\n",
       "      <td>20.7</td>\n",
       "      <td>28.4</td>\n",
       "      <td>0.0</td>\n",
       "    </tr>\n",
       "    <tr>\n",
       "      <th>...</th>\n",
       "      <td>...</td>\n",
       "      <td>...</td>\n",
       "      <td>...</td>\n",
       "      <td>...</td>\n",
       "    </tr>\n",
       "    <tr>\n",
       "      <th>21-07-2022</th>\n",
       "      <td>28.4</td>\n",
       "      <td>24.5</td>\n",
       "      <td>32.8</td>\n",
       "      <td>21.1</td>\n",
       "    </tr>\n",
       "    <tr>\n",
       "      <th>22-07-2022</th>\n",
       "      <td>27.8</td>\n",
       "      <td>24.6</td>\n",
       "      <td>32.2</td>\n",
       "      <td>22.1</td>\n",
       "    </tr>\n",
       "    <tr>\n",
       "      <th>23-07-2022</th>\n",
       "      <td>27.4</td>\n",
       "      <td>24.7</td>\n",
       "      <td>32.6</td>\n",
       "      <td>18.6</td>\n",
       "    </tr>\n",
       "    <tr>\n",
       "      <th>24-07-2022</th>\n",
       "      <td>27.8</td>\n",
       "      <td>25.0</td>\n",
       "      <td>33.3</td>\n",
       "      <td>9.1</td>\n",
       "    </tr>\n",
       "    <tr>\n",
       "      <th>25-07-2022</th>\n",
       "      <td>28.1</td>\n",
       "      <td>25.4</td>\n",
       "      <td>32.6</td>\n",
       "      <td>2.9</td>\n",
       "    </tr>\n",
       "  </tbody>\n",
       "</table>\n",
       "<p>11894 rows × 4 columns</p>\n",
       "</div>"
      ],
      "text/plain": [
       "            tavg  tmin  tmax  prcp\n",
       "time                              \n",
       "01-01-1990  25.2  22.8  28.4   0.5\n",
       "02-01-1990  24.9  21.7  29.1   0.0\n",
       "03-01-1990  25.6  21.4  29.8   0.0\n",
       "04-01-1990  25.7   NaN  28.7   0.0\n",
       "05-01-1990  25.5  20.7  28.4   0.0\n",
       "...          ...   ...   ...   ...\n",
       "21-07-2022  28.4  24.5  32.8  21.1\n",
       "22-07-2022  27.8  24.6  32.2  22.1\n",
       "23-07-2022  27.4  24.7  32.6  18.6\n",
       "24-07-2022  27.8  25.0  33.3   9.1\n",
       "25-07-2022  28.1  25.4  32.6   2.9\n",
       "\n",
       "[11894 rows x 4 columns]"
      ]
     },
     "execution_count": 3,
     "metadata": {},
     "output_type": "execute_result"
    }
   ],
   "source": [
    "weather"
   ]
  },
  {
   "cell_type": "code",
   "execution_count": 4,
   "id": "1d4df79d-93d7-4e00-a338-7f754c3ad875",
   "metadata": {},
   "outputs": [
    {
     "data": {
      "text/plain": [
       "tavg    0.002270\n",
       "tmin    0.259290\n",
       "tmax    0.085673\n",
       "prcp    0.410795\n",
       "dtype: float64"
      ]
     },
     "execution_count": 4,
     "metadata": {},
     "output_type": "execute_result"
    }
   ],
   "source": [
    "weather.isnull().sum()/11894"
   ]
  },
  {
   "cell_type": "code",
   "execution_count": 5,
   "id": "c06166b4-3988-451d-bf56-f9770227eff5",
   "metadata": {},
   "outputs": [
    {
     "data": {
      "text/plain": [
       "tavg    0.002270\n",
       "tmin    0.259290\n",
       "tmax    0.085673\n",
       "prcp    0.410795\n",
       "dtype: float64"
      ]
     },
     "execution_count": 5,
     "metadata": {},
     "output_type": "execute_result"
    }
   ],
   "source": [
    "weather.apply(pd.isnull).sum()/weather.shape[0]"
   ]
  },
  {
   "cell_type": "code",
   "execution_count": 6,
   "id": "07531818-6a9b-4c67-b0fd-a3fc52eef70c",
   "metadata": {},
   "outputs": [
    {
     "data": {
      "text/plain": [
       "11894"
      ]
     },
     "execution_count": 6,
     "metadata": {},
     "output_type": "execute_result"
    }
   ],
   "source": [
    "weather.shape[0]"
   ]
  },
  {
   "cell_type": "code",
   "execution_count": 7,
   "id": "f0a8cc22-1c2d-4370-9951-56bad45bc0ff",
   "metadata": {},
   "outputs": [],
   "source": [
    "core_weather = weather[[\"prcp\",\"tmin\",\"tmax\"]].copy()"
   ]
  },
  {
   "cell_type": "code",
   "execution_count": 8,
   "id": "1e22aa2a-b91a-4331-addf-0ae2e6bc756c",
   "metadata": {},
   "outputs": [],
   "source": [
    "core_weather.columns = [\"precip\",\"temp_min\", \"temp_max\"]"
   ]
  },
  {
   "cell_type": "code",
   "execution_count": 9,
   "id": "8dfc2dcd-fe47-4aa6-96bf-22661043b187",
   "metadata": {},
   "outputs": [
    {
     "data": {
      "text/html": [
       "<div>\n",
       "<style scoped>\n",
       "    .dataframe tbody tr th:only-of-type {\n",
       "        vertical-align: middle;\n",
       "    }\n",
       "\n",
       "    .dataframe tbody tr th {\n",
       "        vertical-align: top;\n",
       "    }\n",
       "\n",
       "    .dataframe thead th {\n",
       "        text-align: right;\n",
       "    }\n",
       "</style>\n",
       "<table border=\"1\" class=\"dataframe\">\n",
       "  <thead>\n",
       "    <tr style=\"text-align: right;\">\n",
       "      <th></th>\n",
       "      <th>precip</th>\n",
       "      <th>temp_min</th>\n",
       "      <th>temp_max</th>\n",
       "    </tr>\n",
       "    <tr>\n",
       "      <th>time</th>\n",
       "      <th></th>\n",
       "      <th></th>\n",
       "      <th></th>\n",
       "    </tr>\n",
       "  </thead>\n",
       "  <tbody>\n",
       "    <tr>\n",
       "      <th>01-01-1990</th>\n",
       "      <td>0.5</td>\n",
       "      <td>22.8</td>\n",
       "      <td>28.4</td>\n",
       "    </tr>\n",
       "    <tr>\n",
       "      <th>02-01-1990</th>\n",
       "      <td>0.0</td>\n",
       "      <td>21.7</td>\n",
       "      <td>29.1</td>\n",
       "    </tr>\n",
       "    <tr>\n",
       "      <th>03-01-1990</th>\n",
       "      <td>0.0</td>\n",
       "      <td>21.4</td>\n",
       "      <td>29.8</td>\n",
       "    </tr>\n",
       "    <tr>\n",
       "      <th>04-01-1990</th>\n",
       "      <td>0.0</td>\n",
       "      <td>NaN</td>\n",
       "      <td>28.7</td>\n",
       "    </tr>\n",
       "    <tr>\n",
       "      <th>05-01-1990</th>\n",
       "      <td>0.0</td>\n",
       "      <td>20.7</td>\n",
       "      <td>28.4</td>\n",
       "    </tr>\n",
       "    <tr>\n",
       "      <th>...</th>\n",
       "      <td>...</td>\n",
       "      <td>...</td>\n",
       "      <td>...</td>\n",
       "    </tr>\n",
       "    <tr>\n",
       "      <th>21-07-2022</th>\n",
       "      <td>21.1</td>\n",
       "      <td>24.5</td>\n",
       "      <td>32.8</td>\n",
       "    </tr>\n",
       "    <tr>\n",
       "      <th>22-07-2022</th>\n",
       "      <td>22.1</td>\n",
       "      <td>24.6</td>\n",
       "      <td>32.2</td>\n",
       "    </tr>\n",
       "    <tr>\n",
       "      <th>23-07-2022</th>\n",
       "      <td>18.6</td>\n",
       "      <td>24.7</td>\n",
       "      <td>32.6</td>\n",
       "    </tr>\n",
       "    <tr>\n",
       "      <th>24-07-2022</th>\n",
       "      <td>9.1</td>\n",
       "      <td>25.0</td>\n",
       "      <td>33.3</td>\n",
       "    </tr>\n",
       "    <tr>\n",
       "      <th>25-07-2022</th>\n",
       "      <td>2.9</td>\n",
       "      <td>25.4</td>\n",
       "      <td>32.6</td>\n",
       "    </tr>\n",
       "  </tbody>\n",
       "</table>\n",
       "<p>11894 rows × 3 columns</p>\n",
       "</div>"
      ],
      "text/plain": [
       "            precip  temp_min  temp_max\n",
       "time                                  \n",
       "01-01-1990     0.5      22.8      28.4\n",
       "02-01-1990     0.0      21.7      29.1\n",
       "03-01-1990     0.0      21.4      29.8\n",
       "04-01-1990     0.0       NaN      28.7\n",
       "05-01-1990     0.0      20.7      28.4\n",
       "...            ...       ...       ...\n",
       "21-07-2022    21.1      24.5      32.8\n",
       "22-07-2022    22.1      24.6      32.2\n",
       "23-07-2022    18.6      24.7      32.6\n",
       "24-07-2022     9.1      25.0      33.3\n",
       "25-07-2022     2.9      25.4      32.6\n",
       "\n",
       "[11894 rows x 3 columns]"
      ]
     },
     "execution_count": 9,
     "metadata": {},
     "output_type": "execute_result"
    }
   ],
   "source": [
    "core_weather"
   ]
  },
  {
   "cell_type": "code",
   "execution_count": 10,
   "id": "0786e7cd-b1d0-472c-a705-b4dc4ea63eff",
   "metadata": {},
   "outputs": [
    {
     "data": {
      "text/plain": [
       "35.0    245\n",
       "36.0    243\n",
       "34.0    231\n",
       "30.0    226\n",
       "31.0    217\n",
       "       ... \n",
       "44.3      1\n",
       "44.6      1\n",
       "23.8      1\n",
       "24.7      1\n",
       "24.3      1\n",
       "Name: temp_max, Length: 201, dtype: int64"
      ]
     },
     "execution_count": 10,
     "metadata": {},
     "output_type": "execute_result"
    }
   ],
   "source": [
    "core_weather[\"temp_max\"].value_counts()"
   ]
  },
  {
   "cell_type": "code",
   "execution_count": 11,
   "id": "3e6c1766-5d0a-4c85-8589-367ac3ee0ff3",
   "metadata": {},
   "outputs": [
    {
     "data": {
      "text/html": [
       "<div>\n",
       "<style scoped>\n",
       "    .dataframe tbody tr th:only-of-type {\n",
       "        vertical-align: middle;\n",
       "    }\n",
       "\n",
       "    .dataframe tbody tr th {\n",
       "        vertical-align: top;\n",
       "    }\n",
       "\n",
       "    .dataframe thead th {\n",
       "        text-align: right;\n",
       "    }\n",
       "</style>\n",
       "<table border=\"1\" class=\"dataframe\">\n",
       "  <thead>\n",
       "    <tr style=\"text-align: right;\">\n",
       "      <th></th>\n",
       "      <th>precip</th>\n",
       "      <th>temp_min</th>\n",
       "      <th>temp_max</th>\n",
       "    </tr>\n",
       "    <tr>\n",
       "      <th>time</th>\n",
       "      <th></th>\n",
       "      <th></th>\n",
       "      <th></th>\n",
       "    </tr>\n",
       "  </thead>\n",
       "  <tbody>\n",
       "    <tr>\n",
       "      <th>19-02-1990</th>\n",
       "      <td>NaN</td>\n",
       "      <td>25.2</td>\n",
       "      <td>32.6</td>\n",
       "    </tr>\n",
       "    <tr>\n",
       "      <th>09-03-1990</th>\n",
       "      <td>NaN</td>\n",
       "      <td>25.2</td>\n",
       "      <td>32.4</td>\n",
       "    </tr>\n",
       "    <tr>\n",
       "      <th>10-03-1990</th>\n",
       "      <td>NaN</td>\n",
       "      <td>24.4</td>\n",
       "      <td>29.8</td>\n",
       "    </tr>\n",
       "    <tr>\n",
       "      <th>11-03-1990</th>\n",
       "      <td>NaN</td>\n",
       "      <td>23.5</td>\n",
       "      <td>30.7</td>\n",
       "    </tr>\n",
       "    <tr>\n",
       "      <th>19-03-1990</th>\n",
       "      <td>NaN</td>\n",
       "      <td>22.9</td>\n",
       "      <td>32.4</td>\n",
       "    </tr>\n",
       "    <tr>\n",
       "      <th>...</th>\n",
       "      <td>...</td>\n",
       "      <td>...</td>\n",
       "      <td>...</td>\n",
       "    </tr>\n",
       "    <tr>\n",
       "      <th>28-12-2020</th>\n",
       "      <td>NaN</td>\n",
       "      <td>21.0</td>\n",
       "      <td>30.0</td>\n",
       "    </tr>\n",
       "    <tr>\n",
       "      <th>29-12-2020</th>\n",
       "      <td>NaN</td>\n",
       "      <td>23.4</td>\n",
       "      <td>30.0</td>\n",
       "    </tr>\n",
       "    <tr>\n",
       "      <th>30-12-2020</th>\n",
       "      <td>NaN</td>\n",
       "      <td>24.0</td>\n",
       "      <td>29.4</td>\n",
       "    </tr>\n",
       "    <tr>\n",
       "      <th>31-12-2020</th>\n",
       "      <td>NaN</td>\n",
       "      <td>25.0</td>\n",
       "      <td>30.0</td>\n",
       "    </tr>\n",
       "    <tr>\n",
       "      <th>26-05-2022</th>\n",
       "      <td>NaN</td>\n",
       "      <td>28.0</td>\n",
       "      <td>39.0</td>\n",
       "    </tr>\n",
       "  </tbody>\n",
       "</table>\n",
       "<p>4886 rows × 3 columns</p>\n",
       "</div>"
      ],
      "text/plain": [
       "            precip  temp_min  temp_max\n",
       "time                                  \n",
       "19-02-1990     NaN      25.2      32.6\n",
       "09-03-1990     NaN      25.2      32.4\n",
       "10-03-1990     NaN      24.4      29.8\n",
       "11-03-1990     NaN      23.5      30.7\n",
       "19-03-1990     NaN      22.9      32.4\n",
       "...            ...       ...       ...\n",
       "28-12-2020     NaN      21.0      30.0\n",
       "29-12-2020     NaN      23.4      30.0\n",
       "30-12-2020     NaN      24.0      29.4\n",
       "31-12-2020     NaN      25.0      30.0\n",
       "26-05-2022     NaN      28.0      39.0\n",
       "\n",
       "[4886 rows x 3 columns]"
      ]
     },
     "execution_count": 11,
     "metadata": {},
     "output_type": "execute_result"
    }
   ],
   "source": [
    "core_weather[pd.isnull(core_weather[\"precip\"])]"
   ]
  },
  {
   "cell_type": "code",
   "execution_count": 12,
   "id": "fe53ab11-4b63-476f-bbcf-a624f50f7645",
   "metadata": {},
   "outputs": [
    {
     "data": {
      "text/plain": [
       "0.0      4149\n",
       "0.5       247\n",
       "0.3       222\n",
       "1.0       163\n",
       "2.0       143\n",
       "         ... \n",
       "278.9       1\n",
       "17.3        1\n",
       "61.5        1\n",
       "79.0        1\n",
       "18.6        1\n",
       "Name: precip, Length: 337, dtype: int64"
      ]
     },
     "execution_count": 12,
     "metadata": {},
     "output_type": "execute_result"
    }
   ],
   "source": [
    "core_weather[\"precip\"].value_counts()"
   ]
  },
  {
   "cell_type": "code",
   "execution_count": 13,
   "id": "384f26de-78c3-4371-a833-0ed6ddc47498",
   "metadata": {},
   "outputs": [],
   "source": [
    "core_weather[\"precip\"] = core_weather[\"precip\"].fillna(0)"
   ]
  },
  {
   "cell_type": "code",
   "execution_count": 14,
   "id": "3546733b-7b54-40a1-9c9a-affd3a14e8cd",
   "metadata": {},
   "outputs": [
    {
     "data": {
      "text/html": [
       "<div>\n",
       "<style scoped>\n",
       "    .dataframe tbody tr th:only-of-type {\n",
       "        vertical-align: middle;\n",
       "    }\n",
       "\n",
       "    .dataframe tbody tr th {\n",
       "        vertical-align: top;\n",
       "    }\n",
       "\n",
       "    .dataframe thead th {\n",
       "        text-align: right;\n",
       "    }\n",
       "</style>\n",
       "<table border=\"1\" class=\"dataframe\">\n",
       "  <thead>\n",
       "    <tr style=\"text-align: right;\">\n",
       "      <th></th>\n",
       "      <th>precip</th>\n",
       "      <th>temp_min</th>\n",
       "      <th>temp_max</th>\n",
       "    </tr>\n",
       "    <tr>\n",
       "      <th>time</th>\n",
       "      <th></th>\n",
       "      <th></th>\n",
       "      <th></th>\n",
       "    </tr>\n",
       "  </thead>\n",
       "  <tbody>\n",
       "    <tr>\n",
       "      <th>29-01-1990</th>\n",
       "      <td>0.0</td>\n",
       "      <td>20.2</td>\n",
       "      <td>NaN</td>\n",
       "    </tr>\n",
       "    <tr>\n",
       "      <th>04-02-1990</th>\n",
       "      <td>31.0</td>\n",
       "      <td>NaN</td>\n",
       "      <td>NaN</td>\n",
       "    </tr>\n",
       "    <tr>\n",
       "      <th>05-02-1990</th>\n",
       "      <td>0.0</td>\n",
       "      <td>18.9</td>\n",
       "      <td>NaN</td>\n",
       "    </tr>\n",
       "    <tr>\n",
       "      <th>13-02-1990</th>\n",
       "      <td>0.0</td>\n",
       "      <td>NaN</td>\n",
       "      <td>NaN</td>\n",
       "    </tr>\n",
       "    <tr>\n",
       "      <th>15-02-1990</th>\n",
       "      <td>0.0</td>\n",
       "      <td>NaN</td>\n",
       "      <td>NaN</td>\n",
       "    </tr>\n",
       "    <tr>\n",
       "      <th>...</th>\n",
       "      <td>...</td>\n",
       "      <td>...</td>\n",
       "      <td>...</td>\n",
       "    </tr>\n",
       "    <tr>\n",
       "      <th>02-02-2018</th>\n",
       "      <td>0.0</td>\n",
       "      <td>17.6</td>\n",
       "      <td>NaN</td>\n",
       "    </tr>\n",
       "    <tr>\n",
       "      <th>27-03-2018</th>\n",
       "      <td>0.0</td>\n",
       "      <td>24.4</td>\n",
       "      <td>NaN</td>\n",
       "    </tr>\n",
       "    <tr>\n",
       "      <th>23-04-2018</th>\n",
       "      <td>0.0</td>\n",
       "      <td>27.7</td>\n",
       "      <td>NaN</td>\n",
       "    </tr>\n",
       "    <tr>\n",
       "      <th>28-05-2018</th>\n",
       "      <td>0.0</td>\n",
       "      <td>28.6</td>\n",
       "      <td>NaN</td>\n",
       "    </tr>\n",
       "    <tr>\n",
       "      <th>28-06-2018</th>\n",
       "      <td>0.0</td>\n",
       "      <td>26.9</td>\n",
       "      <td>NaN</td>\n",
       "    </tr>\n",
       "  </tbody>\n",
       "</table>\n",
       "<p>1019 rows × 3 columns</p>\n",
       "</div>"
      ],
      "text/plain": [
       "            precip  temp_min  temp_max\n",
       "time                                  \n",
       "29-01-1990     0.0      20.2       NaN\n",
       "04-02-1990    31.0       NaN       NaN\n",
       "05-02-1990     0.0      18.9       NaN\n",
       "13-02-1990     0.0       NaN       NaN\n",
       "15-02-1990     0.0       NaN       NaN\n",
       "...            ...       ...       ...\n",
       "02-02-2018     0.0      17.6       NaN\n",
       "27-03-2018     0.0      24.4       NaN\n",
       "23-04-2018     0.0      27.7       NaN\n",
       "28-05-2018     0.0      28.6       NaN\n",
       "28-06-2018     0.0      26.9       NaN\n",
       "\n",
       "[1019 rows x 3 columns]"
      ]
     },
     "execution_count": 14,
     "metadata": {},
     "output_type": "execute_result"
    }
   ],
   "source": [
    "core_weather[pd.isnull(core_weather[\"temp_max\"])]"
   ]
  },
  {
   "cell_type": "code",
   "execution_count": 15,
   "id": "9184afc9-96d5-4bba-98aa-9b6e91482fc6",
   "metadata": {},
   "outputs": [],
   "source": [
    "core_weather = core_weather.fillna(method=\"ffill\")"
   ]
  },
  {
   "cell_type": "code",
   "execution_count": 16,
   "id": "ad74bf84-2349-479c-be61-55c7771bd548",
   "metadata": {},
   "outputs": [
    {
     "data": {
      "text/plain": [
       "precip      0.0\n",
       "temp_min    0.0\n",
       "temp_max    0.0\n",
       "dtype: float64"
      ]
     },
     "execution_count": 16,
     "metadata": {},
     "output_type": "execute_result"
    }
   ],
   "source": [
    "core_weather.apply(pd.isnull).sum()/core_weather.shape[0]"
   ]
  },
  {
   "cell_type": "code",
   "execution_count": 17,
   "id": "0e911f25-fcd5-4e8a-802d-146d0b679af5",
   "metadata": {},
   "outputs": [
    {
     "data": {
      "text/plain": [
       "precip      float64\n",
       "temp_min    float64\n",
       "temp_max    float64\n",
       "dtype: object"
      ]
     },
     "execution_count": 17,
     "metadata": {},
     "output_type": "execute_result"
    }
   ],
   "source": [
    "core_weather.dtypes"
   ]
  },
  {
   "cell_type": "code",
   "execution_count": 18,
   "id": "79c60472-42bf-45d4-a997-c0d5766e24ad",
   "metadata": {},
   "outputs": [
    {
     "data": {
      "text/plain": [
       "Index(['01-01-1990', '02-01-1990', '03-01-1990', '04-01-1990', '05-01-1990',\n",
       "       '06-01-1990', '07-01-1990', '08-01-1990', '09-01-1990', '10-01-1990',\n",
       "       ...\n",
       "       '16-07-2022', '17-07-2022', '18-07-2022', '19-07-2022', '20-07-2022',\n",
       "       '21-07-2022', '22-07-2022', '23-07-2022', '24-07-2022', '25-07-2022'],\n",
       "      dtype='object', name='time', length=11894)"
      ]
     },
     "execution_count": 18,
     "metadata": {},
     "output_type": "execute_result"
    }
   ],
   "source": [
    "core_weather.index"
   ]
  },
  {
   "cell_type": "code",
   "execution_count": 19,
   "id": "e569e216-40bf-4f60-8a3f-d1f9e46d304c",
   "metadata": {},
   "outputs": [
    {
     "data": {
      "text/plain": [
       "Index(['01-01-1990', '02-01-1990', '03-01-1990', '04-01-1990', '05-01-1990',\n",
       "       '06-01-1990', '07-01-1990', '08-01-1990', '09-01-1990', '10-01-1990',\n",
       "       ...\n",
       "       '16-07-2022', '17-07-2022', '18-07-2022', '19-07-2022', '20-07-2022',\n",
       "       '21-07-2022', '22-07-2022', '23-07-2022', '24-07-2022', '25-07-2022'],\n",
       "      dtype='object', name='time', length=11894)"
      ]
     },
     "execution_count": 19,
     "metadata": {},
     "output_type": "execute_result"
    }
   ],
   "source": [
    "core_weather.index"
   ]
  },
  {
   "cell_type": "code",
   "execution_count": 20,
   "id": "8ccdb8d4-d850-41ff-949b-5a69a94918c8",
   "metadata": {},
   "outputs": [
    {
     "name": "stderr",
     "output_type": "stream",
     "text": [
      "C:\\Users\\train\\AppData\\Local\\Temp\\ipykernel_7908\\3501870966.py:1: UserWarning: Parsing dates in DD/MM/YYYY format when dayfirst=False (the default) was specified. This may lead to inconsistently parsed dates! Specify a format to ensure consistent parsing.\n",
      "  core_weather.index = pd.to_datetime(core_weather.index)\n"
     ]
    }
   ],
   "source": [
    "core_weather.index = pd.to_datetime(core_weather.index)"
   ]
  },
  {
   "cell_type": "code",
   "execution_count": 21,
   "id": "b22e0e83-4d2b-4eb8-a927-59aee80bd7c1",
   "metadata": {},
   "outputs": [
    {
     "data": {
      "text/plain": [
       "Int64Index([1990, 1990, 1990, 1990, 1990, 1990, 1990, 1990, 1990, 1990,\n",
       "            ...\n",
       "            2022, 2022, 2022, 2022, 2022, 2022, 2022, 2022, 2022, 2022],\n",
       "           dtype='int64', name='time', length=11894)"
      ]
     },
     "execution_count": 21,
     "metadata": {},
     "output_type": "execute_result"
    }
   ],
   "source": [
    "core_weather.index.year"
   ]
  },
  {
   "cell_type": "code",
   "execution_count": 22,
   "id": "4d3bd4fe-9678-4437-862f-a5061b17c729",
   "metadata": {},
   "outputs": [
    {
     "data": {
      "text/plain": [
       "<Axes: xlabel='time'>"
      ]
     },
     "execution_count": 22,
     "metadata": {},
     "output_type": "execute_result"
    },
    {
     "data": {
      "image/png": "[encoded data removed]",
      "text/plain": [
       "<Figure size 640x480 with 1 Axes>"
      ]
     },
     "metadata": {},
     "output_type": "display_data"
    }
   ],
   "source": [
    "core_weather[[\"temp_max\",\"temp_min\"]].plot()"
   ]
  },
  {
   "cell_type": "code",
   "execution_count": 23,
   "id": "0498eeb5-a551-4b78-8f8a-40946b5d5ba6",
   "metadata": {},
   "outputs": [
    {
     "data": {
      "text/plain": [
       "<Axes: xlabel='time'>"
      ]
     },
     "execution_count": 23,
     "metadata": {},
     "output_type": "execute_result"
    },
    {
     "data": {
      "image/png": "[encoded data removed]",
      "text/plain": [
       "<Figure size 640x480 with 1 Axes>"
      ]
     },
     "metadata": {},
     "output_type": "display_data"
    }
   ],
   "source": [
    "core_weather[\"precip\"].plot()"
   ]
  },
  {
   "cell_type": "code",
   "execution_count": 24,
   "id": "98a51444-8b7a-421f-9c83-87d513ea109f",
   "metadata": {},
   "outputs": [],
   "source": [
    "core_weather[\"target\"] = core_weather.shift(-1)[\"temp_max\"]"
   ]
  },
  {
   "cell_type": "code",
   "execution_count": 25,
   "id": "8b0f8f22-c3d6-465d-a115-58a22c92dca0",
   "metadata": {},
   "outputs": [
    {
     "data": {
      "text/html": [
       "<div>\n",
       "<style scoped>\n",
       "    .dataframe tbody tr th:only-of-type {\n",
       "        vertical-align: middle;\n",
       "    }\n",
       "\n",
       "    .dataframe tbody tr th {\n",
       "        vertical-align: top;\n",
       "    }\n",
       "\n",
       "    .dataframe thead th {\n",
       "        text-align: right;\n",
       "    }\n",
       "</style>\n",
       "<table border=\"1\" class=\"dataframe\">\n",
       "  <thead>\n",
       "    <tr style=\"text-align: right;\">\n",
       "      <th></th>\n",
       "      <th>precip</th>\n",
       "      <th>temp_min</th>\n",
       "      <th>temp_max</th>\n",
       "      <th>target</th>\n",
       "    </tr>\n",
       "    <tr>\n",
       "      <th>time</th>\n",
       "      <th></th>\n",
       "      <th></th>\n",
       "      <th></th>\n",
       "      <th></th>\n",
       "    </tr>\n",
       "  </thead>\n",
       "  <tbody>\n",
       "    <tr>\n",
       "      <th>1990-01-01</th>\n",
       "      <td>0.5</td>\n",
       "      <td>22.8</td>\n",
       "      <td>28.4</td>\n",
       "      <td>29.1</td>\n",
       "    </tr>\n",
       "    <tr>\n",
       "      <th>1990-02-01</th>\n",
       "      <td>0.0</td>\n",
       "      <td>21.7</td>\n",
       "      <td>29.1</td>\n",
       "      <td>29.8</td>\n",
       "    </tr>\n",
       "    <tr>\n",
       "      <th>1990-03-01</th>\n",
       "      <td>0.0</td>\n",
       "      <td>21.4</td>\n",
       "      <td>29.8</td>\n",
       "      <td>28.7</td>\n",
       "    </tr>\n",
       "    <tr>\n",
       "      <th>1990-04-01</th>\n",
       "      <td>0.0</td>\n",
       "      <td>21.4</td>\n",
       "      <td>28.7</td>\n",
       "      <td>28.4</td>\n",
       "    </tr>\n",
       "    <tr>\n",
       "      <th>1990-05-01</th>\n",
       "      <td>0.0</td>\n",
       "      <td>20.7</td>\n",
       "      <td>28.4</td>\n",
       "      <td>26.1</td>\n",
       "    </tr>\n",
       "    <tr>\n",
       "      <th>...</th>\n",
       "      <td>...</td>\n",
       "      <td>...</td>\n",
       "      <td>...</td>\n",
       "      <td>...</td>\n",
       "    </tr>\n",
       "    <tr>\n",
       "      <th>2022-07-21</th>\n",
       "      <td>21.1</td>\n",
       "      <td>24.5</td>\n",
       "      <td>32.8</td>\n",
       "      <td>32.2</td>\n",
       "    </tr>\n",
       "    <tr>\n",
       "      <th>2022-07-22</th>\n",
       "      <td>22.1</td>\n",
       "      <td>24.6</td>\n",
       "      <td>32.2</td>\n",
       "      <td>32.6</td>\n",
       "    </tr>\n",
       "    <tr>\n",
       "      <th>2022-07-23</th>\n",
       "      <td>18.6</td>\n",
       "      <td>24.7</td>\n",
       "      <td>32.6</td>\n",
       "      <td>33.3</td>\n",
       "    </tr>\n",
       "    <tr>\n",
       "      <th>2022-07-24</th>\n",
       "      <td>9.1</td>\n",
       "      <td>25.0</td>\n",
       "      <td>33.3</td>\n",
       "      <td>32.6</td>\n",
       "    </tr>\n",
       "    <tr>\n",
       "      <th>2022-07-25</th>\n",
       "      <td>2.9</td>\n",
       "      <td>25.4</td>\n",
       "      <td>32.6</td>\n",
       "      <td>NaN</td>\n",
       "    </tr>\n",
       "  </tbody>\n",
       "</table>\n",
       "<p>11894 rows × 4 columns</p>\n",
       "</div>"
      ],
      "text/plain": [
       "            precip  temp_min  temp_max  target\n",
       "time                                          \n",
       "1990-01-01     0.5      22.8      28.4    29.1\n",
       "1990-02-01     0.0      21.7      29.1    29.8\n",
       "1990-03-01     0.0      21.4      29.8    28.7\n",
       "1990-04-01     0.0      21.4      28.7    28.4\n",
       "1990-05-01     0.0      20.7      28.4    26.1\n",
       "...            ...       ...       ...     ...\n",
       "2022-07-21    21.1      24.5      32.8    32.2\n",
       "2022-07-22    22.1      24.6      32.2    32.6\n",
       "2022-07-23    18.6      24.7      32.6    33.3\n",
       "2022-07-24     9.1      25.0      33.3    32.6\n",
       "2022-07-25     2.9      25.4      32.6     NaN\n",
       "\n",
       "[11894 rows x 4 columns]"
      ]
     },
     "execution_count": 25,
     "metadata": {},
     "output_type": "execute_result"
    }
   ],
   "source": [
    "core_weather"
   ]
  },
  {
   "cell_type": "code",
   "execution_count": 26,
   "id": "2e1fd0b3-27d1-4c80-9bd9-6818d104d434",
   "metadata": {},
   "outputs": [],
   "source": [
    "core_weather = core_weather.iloc[:-1,:].copy()"
   ]
  },
  {
   "cell_type": "code",
   "execution_count": 27,
   "id": "cb8a7955-62a8-41a3-86d5-cf0d2668745a",
   "metadata": {},
   "outputs": [
    {
     "data": {
      "text/html": [
       "<div>\n",
       "<style scoped>\n",
       "    .dataframe tbody tr th:only-of-type {\n",
       "        vertical-align: middle;\n",
       "    }\n",
       "\n",
       "    .dataframe tbody tr th {\n",
       "        vertical-align: top;\n",
       "    }\n",
       "\n",
       "    .dataframe thead th {\n",
       "        text-align: right;\n",
       "    }\n",
       "</style>\n",
       "<table border=\"1\" class=\"dataframe\">\n",
       "  <thead>\n",
       "    <tr style=\"text-align: right;\">\n",
       "      <th></th>\n",
       "      <th>precip</th>\n",
       "      <th>temp_min</th>\n",
       "      <th>temp_max</th>\n",
       "      <th>target</th>\n",
       "    </tr>\n",
       "    <tr>\n",
       "      <th>time</th>\n",
       "      <th></th>\n",
       "      <th></th>\n",
       "      <th></th>\n",
       "      <th></th>\n",
       "    </tr>\n",
       "  </thead>\n",
       "  <tbody>\n",
       "    <tr>\n",
       "      <th>1990-01-01</th>\n",
       "      <td>0.5</td>\n",
       "      <td>22.8</td>\n",
       "      <td>28.4</td>\n",
       "      <td>29.1</td>\n",
       "    </tr>\n",
       "    <tr>\n",
       "      <th>1990-02-01</th>\n",
       "      <td>0.0</td>\n",
       "      <td>21.7</td>\n",
       "      <td>29.1</td>\n",
       "      <td>29.8</td>\n",
       "    </tr>\n",
       "    <tr>\n",
       "      <th>1990-03-01</th>\n",
       "      <td>0.0</td>\n",
       "      <td>21.4</td>\n",
       "      <td>29.8</td>\n",
       "      <td>28.7</td>\n",
       "    </tr>\n",
       "    <tr>\n",
       "      <th>1990-04-01</th>\n",
       "      <td>0.0</td>\n",
       "      <td>21.4</td>\n",
       "      <td>28.7</td>\n",
       "      <td>28.4</td>\n",
       "    </tr>\n",
       "    <tr>\n",
       "      <th>1990-05-01</th>\n",
       "      <td>0.0</td>\n",
       "      <td>20.7</td>\n",
       "      <td>28.4</td>\n",
       "      <td>26.1</td>\n",
       "    </tr>\n",
       "    <tr>\n",
       "      <th>...</th>\n",
       "      <td>...</td>\n",
       "      <td>...</td>\n",
       "      <td>...</td>\n",
       "      <td>...</td>\n",
       "    </tr>\n",
       "    <tr>\n",
       "      <th>2022-07-20</th>\n",
       "      <td>9.3</td>\n",
       "      <td>26.2</td>\n",
       "      <td>33.0</td>\n",
       "      <td>32.8</td>\n",
       "    </tr>\n",
       "    <tr>\n",
       "      <th>2022-07-21</th>\n",
       "      <td>21.1</td>\n",
       "      <td>24.5</td>\n",
       "      <td>32.8</td>\n",
       "      <td>32.2</td>\n",
       "    </tr>\n",
       "    <tr>\n",
       "      <th>2022-07-22</th>\n",
       "      <td>22.1</td>\n",
       "      <td>24.6</td>\n",
       "      <td>32.2</td>\n",
       "      <td>32.6</td>\n",
       "    </tr>\n",
       "    <tr>\n",
       "      <th>2022-07-23</th>\n",
       "      <td>18.6</td>\n",
       "      <td>24.7</td>\n",
       "      <td>32.6</td>\n",
       "      <td>33.3</td>\n",
       "    </tr>\n",
       "    <tr>\n",
       "      <th>2022-07-24</th>\n",
       "      <td>9.1</td>\n",
       "      <td>25.0</td>\n",
       "      <td>33.3</td>\n",
       "      <td>32.6</td>\n",
       "    </tr>\n",
       "  </tbody>\n",
       "</table>\n",
       "<p>11893 rows × 4 columns</p>\n",
       "</div>"
      ],
      "text/plain": [
       "            precip  temp_min  temp_max  target\n",
       "time                                          \n",
       "1990-01-01     0.5      22.8      28.4    29.1\n",
       "1990-02-01     0.0      21.7      29.1    29.8\n",
       "1990-03-01     0.0      21.4      29.8    28.7\n",
       "1990-04-01     0.0      21.4      28.7    28.4\n",
       "1990-05-01     0.0      20.7      28.4    26.1\n",
       "...            ...       ...       ...     ...\n",
       "2022-07-20     9.3      26.2      33.0    32.8\n",
       "2022-07-21    21.1      24.5      32.8    32.2\n",
       "2022-07-22    22.1      24.6      32.2    32.6\n",
       "2022-07-23    18.6      24.7      32.6    33.3\n",
       "2022-07-24     9.1      25.0      33.3    32.6\n",
       "\n",
       "[11893 rows x 4 columns]"
      ]
     },
     "execution_count": 27,
     "metadata": {},
     "output_type": "execute_result"
    }
   ],
   "source": [
    "core_weather"
   ]
  },
  {
   "cell_type": "code",
   "execution_count": 28,
   "id": "005f68d2-f6fb-4a51-939a-ccc49ad47b28",
   "metadata": {},
   "outputs": [],
   "source": [
    "from sklearn.linear_model import Ridge\n",
    "reg = Ridge(alpha = 1)"
   ]
  },
  {
   "cell_type": "code",
   "execution_count": 29,
   "id": "3484b05c-87bf-44de-aaa7-6b4077957990",
   "metadata": {},
   "outputs": [],
   "source": [
    "predictors = [\"precip\",\"temp_min\",\"temp_max\"]"
   ]
  },
  {
   "cell_type": "code",
   "execution_count": 30,
   "id": "33fadd12-46bc-481e-9512-54fca861b8d2",
   "metadata": {},
   "outputs": [],
   "source": [
    "train = core_weather.loc[:\"2020-12-31\"]"
   ]
  },
  {
   "cell_type": "code",
   "execution_count": 31,
   "id": "e5c69911-177d-4feb-98f7-9583d1fd1754",
   "metadata": {},
   "outputs": [],
   "source": [
    "test = core_weather.loc[\"2021-01-01\":  ]"
   ]
  },
  {
   "cell_type": "code",
   "execution_count": 32,
   "id": "29e3394e-7abb-4d0e-aedf-e6d021d140c1",
   "metadata": {},
   "outputs": [
    {
     "data": {
      "text/html": [
       "<style>#sk-container-id-1 {color: black;background-color: white;}#sk-container-id-1 pre{padding: 0;}#sk-container-id-1 div.sk-toggleable {background-color: white;}#sk-container-id-1 label.sk-toggleable__label {cursor: pointer;display: block;width: 100%;margin-bottom: 0;padding: 0.3em;box-sizing: border-box;text-align: center;}#sk-container-id-1 label.sk-toggleable__label-arrow:before {content: \"▸\";float: left;margin-right: 0.25em;color: #696969;}#sk-container-id-1 label.sk-toggleable__label-arrow:hover:before {color: black;}#sk-container-id-1 div.sk-estimator:hover label.sk-toggleable__label-arrow:before {color: black;}#sk-container-id-1 div.sk-toggleable__content {max-height: 0;max-width: 0;overflow: hidden;text-align: left;background-color: #f0f8ff;}#sk-container-id-1 div.sk-toggleable__content pre {margin: 0.2em;color: black;border-radius: 0.25em;background-color: #f0f8ff;}#sk-container-id-1 input.sk-toggleable__control:checked~div.sk-toggleable__content {max-height: 200px;max-width: 100%;overflow: auto;}#sk-container-id-1 input.sk-toggleable__control:checked~label.sk-toggleable__label-arrow:before {content: \"▾\";}#sk-container-id-1 div.sk-estimator input.sk-toggleable__control:checked~label.sk-toggleable__label {background-color: #d4ebff;}#sk-container-id-1 div.sk-label input.sk-toggleable__control:checked~label.sk-toggleable__label {background-color: #d4ebff;}#sk-container-id-1 input.sk-hidden--visually {border: 0;clip: rect(1px 1px 1px 1px);clip: rect(1px, 1px, 1px, 1px);height: 1px;margin: -1px;overflow: hidden;padding: 0;position: absolute;width: 1px;}#sk-container-id-1 div.sk-estimator {font-family: monospace;background-color: #f0f8ff;border: 1px dotted black;border-radius: 0.25em;box-sizing: border-box;margin-bottom: 0.5em;}#sk-container-id-1 div.sk-estimator:hover {background-color: #d4ebff;}#sk-container-id-1 div.sk-parallel-item::after {content: \"\";width: 100%;border-bottom: 1px solid gray;flex-grow: 1;}#sk-container-id-1 div.sk-label:hover label.sk-toggleable__label {background-color: #d4ebff;}#sk-container-id-1 div.sk-serial::before {content: \"\";position: absolute;border-left: 1px solid gray;box-sizing: border-box;top: 0;bottom: 0;left: 50%;z-index: 0;}#sk-container-id-1 div.sk-serial {display: flex;flex-direction: column;align-items: center;background-color: white;padding-right: 0.2em;padding-left: 0.2em;position: relative;}#sk-container-id-1 div.sk-item {position: relative;z-index: 1;}#sk-container-id-1 div.sk-parallel {display: flex;align-items: stretch;justify-content: center;background-color: white;position: relative;}#sk-container-id-1 div.sk-item::before, #sk-container-id-1 div.sk-parallel-item::before {content: \"\";position: absolute;border-left: 1px solid gray;box-sizing: border-box;top: 0;bottom: 0;left: 50%;z-index: -1;}#sk-container-id-1 div.sk-parallel-item {display: flex;flex-direction: column;z-index: 1;position: relative;background-color: white;}#sk-container-id-1 div.sk-parallel-item:first-child::after {align-self: flex-end;width: 50%;}#sk-container-id-1 div.sk-parallel-item:last-child::after {align-self: flex-start;width: 50%;}#sk-container-id-1 div.sk-parallel-item:only-child::after {width: 0;}#sk-container-id-1 div.sk-dashed-wrapped {border: 1px dashed gray;margin: 0 0.4em 0.5em 0.4em;box-sizing: border-box;padding-bottom: 0.4em;background-color: white;}#sk-container-id-1 div.sk-label label {font-family: monospace;font-weight: bold;display: inline-block;line-height: 1.2em;}#sk-container-id-1 div.sk-label-container {text-align: center;}#sk-container-id-1 div.sk-container {/* jupyter's `normalize.less` sets `[hidden] { display: none; }` but bootstrap.min.css set `[hidden] { display: none !important; }` so we also need the `!important` here to be able to override the default hidden behavior on the sphinx rendered scikit-learn.org. See: https://github.com/scikit-learn/scikit-learn/issues/21755 */display: inline-block !important;position: relative;}#sk-container-id-1 div.sk-text-repr-fallback {display: none;}</style><div id=\"sk-container-id-1\" class=\"sk-top-container\"><div class=\"sk-text-repr-fallback\"><pre>Ridge(alpha=1)</pre><b>In a Jupyter environment, please rerun this cell to show the HTML representation or trust the notebook. <br />On GitHub, the HTML representation is unable to render, please try loading this page with nbviewer.org.</b></div><div class=\"sk-container\" hidden><div class=\"sk-item\"><div class=\"sk-estimator sk-toggleable\"><input class=\"sk-toggleable__control sk-hidden--visually\" id=\"sk-estimator-id-1\" type=\"checkbox\" checked><label for=\"sk-estimator-id-1\" class=\"sk-toggleable__label sk-toggleable__label-arrow\">Ridge</label><div class=\"sk-toggleable__content\"><pre>Ridge(alpha=1)</pre></div></div></div></div></div>"
      ],
      "text/plain": [
       "Ridge(alpha=1)"
      ]
     },
     "execution_count": 32,
     "metadata": {},
     "output_type": "execute_result"
    }
   ],
   "source": [
    "reg.fit(train[predictors], train[\"target\"])"
   ]
  },
  {
   "cell_type": "code",
   "execution_count": 33,
   "id": "481980fd-3a9d-4e86-b5b8-e058b34e92d0",
   "metadata": {},
   "outputs": [],
   "source": [
    "predictions = reg.predict(test[predictors])"
   ]
  },
  {
   "cell_type": "code",
   "execution_count": 34,
   "id": "f3ffc3a8-5592-42a3-b24b-7ce5abe3090c",
   "metadata": {},
   "outputs": [],
   "source": [
    "from sklearn.metrics import mean_absolute_error"
   ]
  },
  {
   "cell_type": "code",
   "execution_count": 35,
   "id": "9d423eb3-994c-423a-9c68-2455411c518d",
   "metadata": {},
   "outputs": [
    {
     "data": {
      "text/plain": [
       "0.8331920991898316"
      ]
     },
     "execution_count": 35,
     "metadata": {},
     "output_type": "execute_result"
    }
   ],
   "source": [
    "mean_absolute_error(test[\"target\"], predictions)"
   ]
  },
  {
   "cell_type": "code",
   "execution_count": 36,
   "id": "266b0472-cb97-4487-8c52-2d84aa750cfc",
   "metadata": {},
   "outputs": [],
   "source": [
    "combined = pd.concat([test[\"target\"], pd.Series(predictions, index = test.index)], axis=1)\n",
    "combined.columns = [\"actual\", \"predictions\"]"
   ]
  },
  {
   "cell_type": "code",
   "execution_count": 37,
   "id": "184ae176-75dd-444b-b88c-84acf4dd915a",
   "metadata": {},
   "outputs": [
    {
     "data": {
      "text/html": [
       "<div>\n",
       "<style scoped>\n",
       "    .dataframe tbody tr th:only-of-type {\n",
       "        vertical-align: middle;\n",
       "    }\n",
       "\n",
       "    .dataframe tbody tr th {\n",
       "        vertical-align: top;\n",
       "    }\n",
       "\n",
       "    .dataframe thead th {\n",
       "        text-align: right;\n",
       "    }\n",
       "</style>\n",
       "<table border=\"1\" class=\"dataframe\">\n",
       "  <thead>\n",
       "    <tr style=\"text-align: right;\">\n",
       "      <th></th>\n",
       "      <th>actual</th>\n",
       "      <th>predictions</th>\n",
       "    </tr>\n",
       "    <tr>\n",
       "      <th>time</th>\n",
       "      <th></th>\n",
       "      <th></th>\n",
       "    </tr>\n",
       "  </thead>\n",
       "  <tbody>\n",
       "    <tr>\n",
       "      <th>2021-01-01</th>\n",
       "      <td>25.4</td>\n",
       "      <td>30.214949</td>\n",
       "    </tr>\n",
       "    <tr>\n",
       "      <th>2021-02-01</th>\n",
       "      <td>27.8</td>\n",
       "      <td>26.663202</td>\n",
       "    </tr>\n",
       "    <tr>\n",
       "      <th>2021-03-01</th>\n",
       "      <td>28.6</td>\n",
       "      <td>28.654609</td>\n",
       "    </tr>\n",
       "    <tr>\n",
       "      <th>2021-04-01</th>\n",
       "      <td>26.8</td>\n",
       "      <td>29.231458</td>\n",
       "    </tr>\n",
       "    <tr>\n",
       "      <th>2021-05-01</th>\n",
       "      <td>28.6</td>\n",
       "      <td>27.900393</td>\n",
       "    </tr>\n",
       "    <tr>\n",
       "      <th>...</th>\n",
       "      <td>...</td>\n",
       "      <td>...</td>\n",
       "    </tr>\n",
       "    <tr>\n",
       "      <th>2022-07-20</th>\n",
       "      <td>32.8</td>\n",
       "      <td>33.418499</td>\n",
       "    </tr>\n",
       "    <tr>\n",
       "      <th>2022-07-21</th>\n",
       "      <td>32.2</td>\n",
       "      <td>33.022406</td>\n",
       "    </tr>\n",
       "    <tr>\n",
       "      <th>2022-07-22</th>\n",
       "      <td>32.6</td>\n",
       "      <td>32.539623</td>\n",
       "    </tr>\n",
       "    <tr>\n",
       "      <th>2022-07-23</th>\n",
       "      <td>33.3</td>\n",
       "      <td>32.881100</td>\n",
       "    </tr>\n",
       "    <tr>\n",
       "      <th>2022-07-24</th>\n",
       "      <td>32.6</td>\n",
       "      <td>33.491243</td>\n",
       "    </tr>\n",
       "  </tbody>\n",
       "</table>\n",
       "<p>570 rows × 2 columns</p>\n",
       "</div>"
      ],
      "text/plain": [
       "            actual  predictions\n",
       "time                           \n",
       "2021-01-01    25.4    30.214949\n",
       "2021-02-01    27.8    26.663202\n",
       "2021-03-01    28.6    28.654609\n",
       "2021-04-01    26.8    29.231458\n",
       "2021-05-01    28.6    27.900393\n",
       "...            ...          ...\n",
       "2022-07-20    32.8    33.418499\n",
       "2022-07-21    32.2    33.022406\n",
       "2022-07-22    32.6    32.539623\n",
       "2022-07-23    33.3    32.881100\n",
       "2022-07-24    32.6    33.491243\n",
       "\n",
       "[570 rows x 2 columns]"
      ]
     },
     "execution_count": 37,
     "metadata": {},
     "output_type": "execute_result"
    }
   ],
   "source": [
    "combined"
   ]
  },
  {
   "cell_type": "code",
   "execution_count": 38,
   "id": "2ee71cd2-d586-49ce-9764-17812f1bf526",
   "metadata": {},
   "outputs": [
    {
     "data": {
      "text/plain": [
       "<Axes: xlabel='time'>"
      ]
     },
     "execution_count": 38,
     "metadata": {},
     "output_type": "execute_result"
    },
    {
     "data": {
      "image/png": "[encoded data removed]",
      "text/plain": [
       "<Figure size 640x480 with 1 Axes>"
      ]
     },
     "metadata": {},
     "output_type": "display_data"
    }
   ],
   "source": [
    "combined.plot()"
   ]
  },
  {
   "cell_type": "code",
   "execution_count": 39,
   "id": "35ca3888-6f39-43e5-8084-fdad1310635b",
   "metadata": {},
   "outputs": [],
   "source": [
    "core_weather[\"month_max\"] = core_weather[\"temp_max\"].rolling(30).mean()"
   ]
  },
  {
   "cell_type": "code",
   "execution_count": 40,
   "id": "1f420f83-d6e7-46df-87cf-19dea60fcac7",
   "metadata": {},
   "outputs": [
    {
     "data": {
      "text/html": [
       "<div>\n",
       "<style scoped>\n",
       "    .dataframe tbody tr th:only-of-type {\n",
       "        vertical-align: middle;\n",
       "    }\n",
       "\n",
       "    .dataframe tbody tr th {\n",
       "        vertical-align: top;\n",
       "    }\n",
       "\n",
       "    .dataframe thead th {\n",
       "        text-align: right;\n",
       "    }\n",
       "</style>\n",
       "<table border=\"1\" class=\"dataframe\">\n",
       "  <thead>\n",
       "    <tr style=\"text-align: right;\">\n",
       "      <th></th>\n",
       "      <th>precip</th>\n",
       "      <th>temp_min</th>\n",
       "      <th>temp_max</th>\n",
       "      <th>target</th>\n",
       "      <th>month_max</th>\n",
       "    </tr>\n",
       "    <tr>\n",
       "      <th>time</th>\n",
       "      <th></th>\n",
       "      <th></th>\n",
       "      <th></th>\n",
       "      <th></th>\n",
       "      <th></th>\n",
       "    </tr>\n",
       "  </thead>\n",
       "  <tbody>\n",
       "    <tr>\n",
       "      <th>1990-01-01</th>\n",
       "      <td>0.5</td>\n",
       "      <td>22.8</td>\n",
       "      <td>28.4</td>\n",
       "      <td>29.1</td>\n",
       "      <td>NaN</td>\n",
       "    </tr>\n",
       "    <tr>\n",
       "      <th>1990-02-01</th>\n",
       "      <td>0.0</td>\n",
       "      <td>21.7</td>\n",
       "      <td>29.1</td>\n",
       "      <td>29.8</td>\n",
       "      <td>NaN</td>\n",
       "    </tr>\n",
       "    <tr>\n",
       "      <th>1990-03-01</th>\n",
       "      <td>0.0</td>\n",
       "      <td>21.4</td>\n",
       "      <td>29.8</td>\n",
       "      <td>28.7</td>\n",
       "      <td>NaN</td>\n",
       "    </tr>\n",
       "    <tr>\n",
       "      <th>1990-04-01</th>\n",
       "      <td>0.0</td>\n",
       "      <td>21.4</td>\n",
       "      <td>28.7</td>\n",
       "      <td>28.4</td>\n",
       "      <td>NaN</td>\n",
       "    </tr>\n",
       "    <tr>\n",
       "      <th>1990-05-01</th>\n",
       "      <td>0.0</td>\n",
       "      <td>20.7</td>\n",
       "      <td>28.4</td>\n",
       "      <td>26.1</td>\n",
       "      <td>NaN</td>\n",
       "    </tr>\n",
       "    <tr>\n",
       "      <th>...</th>\n",
       "      <td>...</td>\n",
       "      <td>...</td>\n",
       "      <td>...</td>\n",
       "      <td>...</td>\n",
       "      <td>...</td>\n",
       "    </tr>\n",
       "    <tr>\n",
       "      <th>2022-07-20</th>\n",
       "      <td>9.3</td>\n",
       "      <td>26.2</td>\n",
       "      <td>33.0</td>\n",
       "      <td>32.8</td>\n",
       "      <td>33.990000</td>\n",
       "    </tr>\n",
       "    <tr>\n",
       "      <th>2022-07-21</th>\n",
       "      <td>21.1</td>\n",
       "      <td>24.5</td>\n",
       "      <td>32.8</td>\n",
       "      <td>32.2</td>\n",
       "      <td>33.973333</td>\n",
       "    </tr>\n",
       "    <tr>\n",
       "      <th>2022-07-22</th>\n",
       "      <td>22.1</td>\n",
       "      <td>24.6</td>\n",
       "      <td>32.2</td>\n",
       "      <td>32.6</td>\n",
       "      <td>33.930000</td>\n",
       "    </tr>\n",
       "    <tr>\n",
       "      <th>2022-07-23</th>\n",
       "      <td>18.6</td>\n",
       "      <td>24.7</td>\n",
       "      <td>32.6</td>\n",
       "      <td>33.3</td>\n",
       "      <td>33.916667</td>\n",
       "    </tr>\n",
       "    <tr>\n",
       "      <th>2022-07-24</th>\n",
       "      <td>9.1</td>\n",
       "      <td>25.0</td>\n",
       "      <td>33.3</td>\n",
       "      <td>32.6</td>\n",
       "      <td>33.926667</td>\n",
       "    </tr>\n",
       "  </tbody>\n",
       "</table>\n",
       "<p>11893 rows × 5 columns</p>\n",
       "</div>"
      ],
      "text/plain": [
       "            precip  temp_min  temp_max  target  month_max\n",
       "time                                                     \n",
       "1990-01-01     0.5      22.8      28.4    29.1        NaN\n",
       "1990-02-01     0.0      21.7      29.1    29.8        NaN\n",
       "1990-03-01     0.0      21.4      29.8    28.7        NaN\n",
       "1990-04-01     0.0      21.4      28.7    28.4        NaN\n",
       "1990-05-01     0.0      20.7      28.4    26.1        NaN\n",
       "...            ...       ...       ...     ...        ...\n",
       "2022-07-20     9.3      26.2      33.0    32.8  33.990000\n",
       "2022-07-21    21.1      24.5      32.8    32.2  33.973333\n",
       "2022-07-22    22.1      24.6      32.2    32.6  33.930000\n",
       "2022-07-23    18.6      24.7      32.6    33.3  33.916667\n",
       "2022-07-24     9.1      25.0      33.3    32.6  33.926667\n",
       "\n",
       "[11893 rows x 5 columns]"
      ]
     },
     "execution_count": 40,
     "metadata": {},
     "output_type": "execute_result"
    }
   ],
   "source": [
    "core_weather"
   ]
  },
  {
   "cell_type": "code",
   "execution_count": 41,
   "id": "32fa90b1-3c68-4394-bc46-ad94ee52e96f",
   "metadata": {},
   "outputs": [],
   "source": [
    "core_weather[\"month_day_max\"] = core_weather[\"month_max\"]/core_weather[\"temp_max\"]"
   ]
  },
  {
   "cell_type": "code",
   "execution_count": 42,
   "id": "5fefed1b-53e1-4682-b8e7-531bfa41d16e",
   "metadata": {},
   "outputs": [],
   "source": [
    "core_weather[\"max_min\"] = core_weather[\"temp_max\"]/core_weather[\"temp_min\"]"
   ]
  },
  {
   "cell_type": "code",
   "execution_count": 43,
   "id": "23f1eee1-0e2b-4f2e-beec-6dd634d61bd9",
   "metadata": {},
   "outputs": [],
   "source": [
    "predictors = [\"precip\",\"temp_min\",\"temp_max\" ]"
   ]
  },
  {
   "cell_type": "code",
   "execution_count": 44,
   "id": "0fe034d8-eed1-4324-b954-2161af4cfd71",
   "metadata": {},
   "outputs": [],
   "source": [
    "core_weather = core_weather.iloc[30:,:].copy()"
   ]
  },
  {
   "cell_type": "code",
   "execution_count": 45,
   "id": "008c5493-517b-46db-b74a-579a2fd16fc8",
   "metadata": {},
   "outputs": [
    {
     "data": {
      "text/html": [
       "<div>\n",
       "<style scoped>\n",
       "    .dataframe tbody tr th:only-of-type {\n",
       "        vertical-align: middle;\n",
       "    }\n",
       "\n",
       "    .dataframe tbody tr th {\n",
       "        vertical-align: top;\n",
       "    }\n",
       "\n",
       "    .dataframe thead th {\n",
       "        text-align: right;\n",
       "    }\n",
       "</style>\n",
       "<table border=\"1\" class=\"dataframe\">\n",
       "  <thead>\n",
       "    <tr style=\"text-align: right;\">\n",
       "      <th></th>\n",
       "      <th>precip</th>\n",
       "      <th>temp_min</th>\n",
       "      <th>temp_max</th>\n",
       "      <th>target</th>\n",
       "      <th>month_max</th>\n",
       "      <th>month_day_max</th>\n",
       "      <th>max_min</th>\n",
       "    </tr>\n",
       "    <tr>\n",
       "      <th>time</th>\n",
       "      <th></th>\n",
       "      <th></th>\n",
       "      <th></th>\n",
       "      <th></th>\n",
       "      <th></th>\n",
       "      <th></th>\n",
       "      <th></th>\n",
       "    </tr>\n",
       "  </thead>\n",
       "  <tbody>\n",
       "    <tr>\n",
       "      <th>1990-01-31</th>\n",
       "      <td>0.0</td>\n",
       "      <td>20.1</td>\n",
       "      <td>29.8</td>\n",
       "      <td>30.0</td>\n",
       "      <td>29.686667</td>\n",
       "      <td>0.996197</td>\n",
       "      <td>1.482587</td>\n",
       "    </tr>\n",
       "    <tr>\n",
       "      <th>1990-01-02</th>\n",
       "      <td>0.0</td>\n",
       "      <td>18.6</td>\n",
       "      <td>30.0</td>\n",
       "      <td>29.6</td>\n",
       "      <td>29.716667</td>\n",
       "      <td>0.990556</td>\n",
       "      <td>1.612903</td>\n",
       "    </tr>\n",
       "    <tr>\n",
       "      <th>1990-02-02</th>\n",
       "      <td>0.0</td>\n",
       "      <td>19.1</td>\n",
       "      <td>29.6</td>\n",
       "      <td>30.1</td>\n",
       "      <td>29.710000</td>\n",
       "      <td>1.003716</td>\n",
       "      <td>1.549738</td>\n",
       "    </tr>\n",
       "    <tr>\n",
       "      <th>1990-03-02</th>\n",
       "      <td>0.0</td>\n",
       "      <td>19.4</td>\n",
       "      <td>30.1</td>\n",
       "      <td>30.1</td>\n",
       "      <td>29.756667</td>\n",
       "      <td>0.988594</td>\n",
       "      <td>1.551546</td>\n",
       "    </tr>\n",
       "    <tr>\n",
       "      <th>1990-04-02</th>\n",
       "      <td>31.0</td>\n",
       "      <td>19.4</td>\n",
       "      <td>30.1</td>\n",
       "      <td>30.1</td>\n",
       "      <td>29.813333</td>\n",
       "      <td>0.990476</td>\n",
       "      <td>1.551546</td>\n",
       "    </tr>\n",
       "  </tbody>\n",
       "</table>\n",
       "</div>"
      ],
      "text/plain": [
       "            precip  temp_min  temp_max  target  month_max  month_day_max  \\\n",
       "time                                                                       \n",
       "1990-01-31     0.0      20.1      29.8    30.0  29.686667       0.996197   \n",
       "1990-01-02     0.0      18.6      30.0    29.6  29.716667       0.990556   \n",
       "1990-02-02     0.0      19.1      29.6    30.1  29.710000       1.003716   \n",
       "1990-03-02     0.0      19.4      30.1    30.1  29.756667       0.988594   \n",
       "1990-04-02    31.0      19.4      30.1    30.1  29.813333       0.990476   \n",
       "\n",
       "             max_min  \n",
       "time                  \n",
       "1990-01-31  1.482587  \n",
       "1990-01-02  1.612903  \n",
       "1990-02-02  1.549738  \n",
       "1990-03-02  1.551546  \n",
       "1990-04-02  1.551546  "
      ]
     },
     "execution_count": 45,
     "metadata": {},
     "output_type": "execute_result"
    }
   ],
   "source": [
    "core_weather.head()"
   ]
  },
  {
   "cell_type": "code",
   "execution_count": 46,
   "id": "5d57c4d6-fe7e-4489-bc7a-ea0815dc0ed7",
   "metadata": {},
   "outputs": [],
   "source": [
    "def create_predictions(predictors, core_weather, reg):\n",
    "    train = core_weather.loc[:\"2020-12-31\"]\n",
    "    test = core_weather.loc[\"2021-01-01\":  ]\n",
    "    reg.fit(train[predictors], train[\"target\"])\n",
    "    predictions = reg.predict(test[predictors])\n",
    "    error = mean_absolute_error(test[\"target\"], predictions)\n",
    "    combined = pd.concat([test[\"target\"], pd.Series(predictions, index = test.index)], axis=1)\n",
    "    combined.columns = [\"actual\", \"predictions\"]\n",
    "    return error, combined"
   ]
  },
  {
   "cell_type": "code",
   "execution_count": 47,
   "id": "efb973ee-a030-4fcb-a330-008d2a7fc076",
   "metadata": {},
   "outputs": [],
   "source": [
    "error, combined = create_predictions(predictors, core_weather, reg)"
   ]
  },
  {
   "cell_type": "code",
   "execution_count": 48,
   "id": "a7f4194f-1e51-4337-88e1-b04b74760f9b",
   "metadata": {},
   "outputs": [
    {
     "data": {
      "text/plain": [
       "0.8332756080159675"
      ]
     },
     "execution_count": 48,
     "metadata": {},
     "output_type": "execute_result"
    }
   ],
   "source": [
    "error"
   ]
  },
  {
   "cell_type": "code",
   "execution_count": 49,
   "id": "f55b881c-30d9-449f-a44c-b74554d39559",
   "metadata": {},
   "outputs": [
    {
     "data": {
      "text/plain": [
       "<Axes: xlabel='time'>"
      ]
     },
     "execution_count": 49,
     "metadata": {},
     "output_type": "execute_result"
    },
    {
     "data": {
      "image/png": "[encoded data removed]",
      "text/plain": [
       "<Figure size 640x480 with 1 Axes>"
      ]
     },
     "metadata": {},
     "output_type": "display_data"
    }
   ],
   "source": [
    "combined.plot()"
   ]
  },
  {
   "cell_type": "code",
   "execution_count": 50,
   "id": "e77f6bdc-8285-4f46-b995-0ae9c7b758d0",
   "metadata": {},
   "outputs": [
    {
     "name": "stdout",
     "output_type": "stream",
     "text": [
      "enter PRECIP0\n",
      "enter Temp_min19.1\n",
      "enter Temp_max29.6\n",
      "predicted target [22.34643893]\n"
     ]
    },
    {
     "name": "stderr",
     "output_type": "stream",
     "text": [
      "C:\\Users\\train\\anaconda3\\anaconda\\lib\\site-packages\\sklearn\\base.py:420: UserWarning: X does not have valid feature names, but Ridge was fitted with feature names\n",
      "  warnings.warn(\n"
     ]
    }
   ],
   "source": [
    "#predictive system\n",
    "import numpy as np\n",
    "precip = float(input(\"enter PRECIP\"))\n",
    "temp_min = float(input(\"enter Temp_min\"))\n",
    "temp_max = float(input(\"enter Temp_max\"))\n",
    "\n",
    "features =(precip, temp_max, temp_min)\n",
    "array = np.array(features)\n",
    "reshaped = array.reshape(1,-1)\n",
    "answer = reg.predict(reshaped)\n",
    "print(\"predicted target\",answer)\n"
   ]
  },
  {
   "cell_type": "code",
   "execution_count": null,
   "id": "b7290da2-8ba3-4f03-9411-6643943ad2ed",
   "metadata": {},
   "outputs": [],
   "source": []
  }
 ],
 "metadata": {
  "kernelspec": {
   "display_name": "Python 3 (ipykernel)",
   "language": "python",
   "name": "python3"
  },
  "language_info": {
   "codemirror_mode": {
    "name": "ipython",
    "version": 3
   },
   "file_extension": ".py",
   "mimetype": "text/x-python",
   "name": "python",
   "nbconvert_exporter": "python",
   "pygments_lexer": "ipython3",
   "version": "3.10.9"
  }
 },
 "nbformat": 4,
 "nbformat_minor": 5
}
